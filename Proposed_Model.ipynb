{
 "cells": [
  {
   "cell_type": "code",
   "execution_count": 1,
   "id": "d0f58d7b",
   "metadata": {},
   "outputs": [],
   "source": [
    "import pandas as pd\n",
    "import numpy as np\n",
    "import matplotlib.pyplot as plt\n",
    "import seaborn as sns\n",
    "\n",
    "%matplotlib inline\n",
    "sns.set_style(\"whitegrid\")\n",
    "plt.style.use(\"fivethirtyeight\")"
   ]
  },
  {
   "cell_type": "code",
   "execution_count": 2,
   "id": "e72c1863",
   "metadata": {},
   "outputs": [
    {
     "data": {
      "text/html": [
       "<div>\n",
       "<style scoped>\n",
       "    .dataframe tbody tr th:only-of-type {\n",
       "        vertical-align: middle;\n",
       "    }\n",
       "\n",
       "    .dataframe tbody tr th {\n",
       "        vertical-align: top;\n",
       "    }\n",
       "\n",
       "    .dataframe thead th {\n",
       "        text-align: right;\n",
       "    }\n",
       "</style>\n",
       "<table border=\"1\" class=\"dataframe\">\n",
       "  <thead>\n",
       "    <tr style=\"text-align: right;\">\n",
       "      <th></th>\n",
       "      <th>age</th>\n",
       "      <th>gender</th>\n",
       "      <th>pulse_rate</th>\n",
       "      <th>systolic_bp</th>\n",
       "      <th>diastolic_bp</th>\n",
       "      <th>glucose</th>\n",
       "      <th>height</th>\n",
       "      <th>weight</th>\n",
       "      <th>bmi</th>\n",
       "      <th>family_diabetes</th>\n",
       "      <th>hypertensive</th>\n",
       "      <th>family_hypertension</th>\n",
       "      <th>cardiovascular_disease</th>\n",
       "      <th>stroke</th>\n",
       "      <th>diabetic</th>\n",
       "    </tr>\n",
       "  </thead>\n",
       "  <tbody>\n",
       "    <tr>\n",
       "      <th>0</th>\n",
       "      <td>42</td>\n",
       "      <td>Female</td>\n",
       "      <td>66</td>\n",
       "      <td>110</td>\n",
       "      <td>73</td>\n",
       "      <td>5.88</td>\n",
       "      <td>1.65</td>\n",
       "      <td>70.2</td>\n",
       "      <td>25.75</td>\n",
       "      <td>0</td>\n",
       "      <td>0</td>\n",
       "      <td>0</td>\n",
       "      <td>0</td>\n",
       "      <td>0</td>\n",
       "      <td>No</td>\n",
       "    </tr>\n",
       "    <tr>\n",
       "      <th>1</th>\n",
       "      <td>35</td>\n",
       "      <td>Female</td>\n",
       "      <td>60</td>\n",
       "      <td>125</td>\n",
       "      <td>68</td>\n",
       "      <td>5.71</td>\n",
       "      <td>1.47</td>\n",
       "      <td>42.5</td>\n",
       "      <td>19.58</td>\n",
       "      <td>0</td>\n",
       "      <td>0</td>\n",
       "      <td>0</td>\n",
       "      <td>0</td>\n",
       "      <td>0</td>\n",
       "      <td>No</td>\n",
       "    </tr>\n",
       "    <tr>\n",
       "      <th>2</th>\n",
       "      <td>62</td>\n",
       "      <td>Female</td>\n",
       "      <td>57</td>\n",
       "      <td>127</td>\n",
       "      <td>74</td>\n",
       "      <td>6.85</td>\n",
       "      <td>1.52</td>\n",
       "      <td>47.0</td>\n",
       "      <td>20.24</td>\n",
       "      <td>0</td>\n",
       "      <td>0</td>\n",
       "      <td>0</td>\n",
       "      <td>0</td>\n",
       "      <td>0</td>\n",
       "      <td>No</td>\n",
       "    </tr>\n",
       "    <tr>\n",
       "      <th>3</th>\n",
       "      <td>73</td>\n",
       "      <td>Male</td>\n",
       "      <td>55</td>\n",
       "      <td>193</td>\n",
       "      <td>112</td>\n",
       "      <td>6.28</td>\n",
       "      <td>1.63</td>\n",
       "      <td>57.4</td>\n",
       "      <td>21.72</td>\n",
       "      <td>0</td>\n",
       "      <td>0</td>\n",
       "      <td>0</td>\n",
       "      <td>0</td>\n",
       "      <td>0</td>\n",
       "      <td>No</td>\n",
       "    </tr>\n",
       "    <tr>\n",
       "      <th>4</th>\n",
       "      <td>68</td>\n",
       "      <td>Female</td>\n",
       "      <td>71</td>\n",
       "      <td>150</td>\n",
       "      <td>81</td>\n",
       "      <td>5.71</td>\n",
       "      <td>1.42</td>\n",
       "      <td>36.0</td>\n",
       "      <td>17.79</td>\n",
       "      <td>0</td>\n",
       "      <td>0</td>\n",
       "      <td>0</td>\n",
       "      <td>0</td>\n",
       "      <td>0</td>\n",
       "      <td>No</td>\n",
       "    </tr>\n",
       "    <tr>\n",
       "      <th>...</th>\n",
       "      <td>...</td>\n",
       "      <td>...</td>\n",
       "      <td>...</td>\n",
       "      <td>...</td>\n",
       "      <td>...</td>\n",
       "      <td>...</td>\n",
       "      <td>...</td>\n",
       "      <td>...</td>\n",
       "      <td>...</td>\n",
       "      <td>...</td>\n",
       "      <td>...</td>\n",
       "      <td>...</td>\n",
       "      <td>...</td>\n",
       "      <td>...</td>\n",
       "      <td>...</td>\n",
       "    </tr>\n",
       "    <tr>\n",
       "      <th>5432</th>\n",
       "      <td>74</td>\n",
       "      <td>Male</td>\n",
       "      <td>83</td>\n",
       "      <td>164</td>\n",
       "      <td>89</td>\n",
       "      <td>6.47</td>\n",
       "      <td>1.60</td>\n",
       "      <td>64.0</td>\n",
       "      <td>24.99</td>\n",
       "      <td>0</td>\n",
       "      <td>1</td>\n",
       "      <td>0</td>\n",
       "      <td>1</td>\n",
       "      <td>0</td>\n",
       "      <td>No</td>\n",
       "    </tr>\n",
       "    <tr>\n",
       "      <th>5433</th>\n",
       "      <td>75</td>\n",
       "      <td>Male</td>\n",
       "      <td>67</td>\n",
       "      <td>141</td>\n",
       "      <td>104</td>\n",
       "      <td>8.31</td>\n",
       "      <td>1.65</td>\n",
       "      <td>62.0</td>\n",
       "      <td>22.75</td>\n",
       "      <td>0</td>\n",
       "      <td>0</td>\n",
       "      <td>0</td>\n",
       "      <td>0</td>\n",
       "      <td>0</td>\n",
       "      <td>Yes</td>\n",
       "    </tr>\n",
       "    <tr>\n",
       "      <th>5434</th>\n",
       "      <td>40</td>\n",
       "      <td>Female</td>\n",
       "      <td>67</td>\n",
       "      <td>134</td>\n",
       "      <td>114</td>\n",
       "      <td>7.61</td>\n",
       "      <td>1.50</td>\n",
       "      <td>69.0</td>\n",
       "      <td>30.72</td>\n",
       "      <td>0</td>\n",
       "      <td>1</td>\n",
       "      <td>0</td>\n",
       "      <td>0</td>\n",
       "      <td>1</td>\n",
       "      <td>No</td>\n",
       "    </tr>\n",
       "    <tr>\n",
       "      <th>5435</th>\n",
       "      <td>36</td>\n",
       "      <td>Female</td>\n",
       "      <td>62</td>\n",
       "      <td>139</td>\n",
       "      <td>80</td>\n",
       "      <td>4.90</td>\n",
       "      <td>1.52</td>\n",
       "      <td>41.5</td>\n",
       "      <td>17.87</td>\n",
       "      <td>0</td>\n",
       "      <td>0</td>\n",
       "      <td>0</td>\n",
       "      <td>0</td>\n",
       "      <td>0</td>\n",
       "      <td>No</td>\n",
       "    </tr>\n",
       "    <tr>\n",
       "      <th>5436</th>\n",
       "      <td>26</td>\n",
       "      <td>Female</td>\n",
       "      <td>80</td>\n",
       "      <td>134</td>\n",
       "      <td>93</td>\n",
       "      <td>5.15</td>\n",
       "      <td>1.47</td>\n",
       "      <td>67.1</td>\n",
       "      <td>30.92</td>\n",
       "      <td>0</td>\n",
       "      <td>0</td>\n",
       "      <td>0</td>\n",
       "      <td>0</td>\n",
       "      <td>0</td>\n",
       "      <td>No</td>\n",
       "    </tr>\n",
       "  </tbody>\n",
       "</table>\n",
       "<p>5437 rows × 15 columns</p>\n",
       "</div>"
      ],
      "text/plain": [
       "      age  gender  pulse_rate  systolic_bp  diastolic_bp  glucose  height  \\\n",
       "0      42  Female          66          110            73     5.88    1.65   \n",
       "1      35  Female          60          125            68     5.71    1.47   \n",
       "2      62  Female          57          127            74     6.85    1.52   \n",
       "3      73    Male          55          193           112     6.28    1.63   \n",
       "4      68  Female          71          150            81     5.71    1.42   \n",
       "...   ...     ...         ...          ...           ...      ...     ...   \n",
       "5432   74    Male          83          164            89     6.47    1.60   \n",
       "5433   75    Male          67          141           104     8.31    1.65   \n",
       "5434   40  Female          67          134           114     7.61    1.50   \n",
       "5435   36  Female          62          139            80     4.90    1.52   \n",
       "5436   26  Female          80          134            93     5.15    1.47   \n",
       "\n",
       "      weight    bmi  family_diabetes  hypertensive  family_hypertension  \\\n",
       "0       70.2  25.75                0             0                    0   \n",
       "1       42.5  19.58                0             0                    0   \n",
       "2       47.0  20.24                0             0                    0   \n",
       "3       57.4  21.72                0             0                    0   \n",
       "4       36.0  17.79                0             0                    0   \n",
       "...      ...    ...              ...           ...                  ...   \n",
       "5432    64.0  24.99                0             1                    0   \n",
       "5433    62.0  22.75                0             0                    0   \n",
       "5434    69.0  30.72                0             1                    0   \n",
       "5435    41.5  17.87                0             0                    0   \n",
       "5436    67.1  30.92                0             0                    0   \n",
       "\n",
       "      cardiovascular_disease  stroke diabetic  \n",
       "0                          0       0       No  \n",
       "1                          0       0       No  \n",
       "2                          0       0       No  \n",
       "3                          0       0       No  \n",
       "4                          0       0       No  \n",
       "...                      ...     ...      ...  \n",
       "5432                       1       0       No  \n",
       "5433                       0       0      Yes  \n",
       "5434                       0       1       No  \n",
       "5435                       0       0       No  \n",
       "5436                       0       0       No  \n",
       "\n",
       "[5437 rows x 15 columns]"
      ]
     },
     "execution_count": 2,
     "metadata": {},
     "output_type": "execute_result"
    }
   ],
   "source": [
    "df = pd.read_csv(\"Diabetes_Final_Data_V2.csv\")\n",
    "df"
   ]
  },
  {
   "cell_type": "code",
   "execution_count": 3,
   "id": "e7a7053b",
   "metadata": {},
   "outputs": [
    {
     "data": {
      "text/plain": [
       "No     5093\n",
       "Yes     344\n",
       "Name: diabetic, dtype: int64"
      ]
     },
     "execution_count": 3,
     "metadata": {},
     "output_type": "execute_result"
    }
   ],
   "source": [
    "df['diabetic'].value_counts()"
   ]
  },
  {
   "cell_type": "code",
   "execution_count": 34,
   "id": "b6bda18c",
   "metadata": {},
   "outputs": [
    {
     "name": "stdout",
     "output_type": "stream",
     "text": [
      "Null values in the dataset:\n",
      "age                       0\n",
      "gender                    0\n",
      "pulse_rate                0\n",
      "systolic_bp               0\n",
      "diastolic_bp              0\n",
      "glucose                   0\n",
      "height                    0\n",
      "weight                    0\n",
      "bmi                       0\n",
      "family_diabetes           0\n",
      "hypertensive              0\n",
      "family_hypertension       0\n",
      "cardiovascular_disease    0\n",
      "stroke                    0\n",
      "diabetic                  0\n",
      "dtype: int64\n"
     ]
    }
   ],
   "source": [
    "# Check for null values\n",
    "null_values = df.isnull().sum()\n",
    "\n",
    "print(\"Null values in the dataset:\")\n",
    "print(null_values)"
   ]
  },
  {
   "cell_type": "code",
   "execution_count": 27,
   "id": "16a3cbd0",
   "metadata": {},
   "outputs": [
    {
     "data": {
      "text/plain": [
       "No     5093\n",
       "Yes     344\n",
       "Name: diabetic, dtype: int64"
      ]
     },
     "execution_count": 27,
     "metadata": {},
     "output_type": "execute_result"
    }
   ],
   "source": [
    "df['diabetic'].value_counts()"
   ]
  },
  {
   "cell_type": "code",
   "execution_count": 28,
   "id": "b7ec6158",
   "metadata": {},
   "outputs": [],
   "source": [
    "df['gender'].replace(['Female', 'Male' ],\n",
    "                        [0, 1], inplace=True)\n",
    "\n",
    "\n",
    "df['diabetic'].replace(['No', 'Yes'],\n",
    "                        [0, 1], inplace=True)"
   ]
  },
  {
   "cell_type": "code",
   "execution_count": 29,
   "id": "b1bf7a43",
   "metadata": {},
   "outputs": [
    {
     "data": {
      "text/plain": [
       "Index(['age', 'gender', 'pulse_rate', 'systolic_bp', 'diastolic_bp', 'glucose',\n",
       "       'height', 'weight', 'bmi', 'family_diabetes', 'hypertensive',\n",
       "       'family_hypertension', 'cardiovascular_disease', 'stroke', 'diabetic'],\n",
       "      dtype='object')"
      ]
     },
     "execution_count": 29,
     "metadata": {},
     "output_type": "execute_result"
    }
   ],
   "source": [
    "df.columns"
   ]
  },
  {
   "cell_type": "code",
   "execution_count": 30,
   "id": "7d181c8c",
   "metadata": {},
   "outputs": [
    {
     "name": "stdout",
     "output_type": "stream",
     "text": [
      "Pearson correlation coefficient: 0.051836464887361614\n"
     ]
    }
   ],
   "source": [
    "import numpy as np\n",
    "\n",
    "\n",
    "\n",
    "# Calculate Pearson correlation coefficient\n",
    "correlation_coef = np.corrcoef(df['age'], df['stroke'])[0, 1]\n",
    "\n",
    "print(\"Pearson correlation coefficient:\", correlation_coef)\n"
   ]
  },
  {
   "cell_type": "code",
   "execution_count": 31,
   "id": "e811b0b5",
   "metadata": {},
   "outputs": [
    {
     "name": "stdout",
     "output_type": "stream",
     "text": [
      "Mean ± SD for continuous variables:\n",
      "                   mean ± SD\n",
      "age             45.21 ± 14.4\n",
      "pulse_rate     76.62 ± 12.19\n",
      "systolic_bp   132.96 ± 21.98\n",
      "diastolic_bp   81.56 ± 12.32\n",
      "glucose          7.31 ± 2.51\n",
      "height           1.55 ± 0.08\n",
      "weight         53.34 ± 10.04\n",
      "bmi             22.37 ± 8.99\n",
      "\n",
      "Frequency (%) for categorical variables:\n",
      "   gender  family_diabetes  hypertensive  family_hypertension  \\\n",
      "0   71.29            96.15         91.89                95.96   \n",
      "1   28.71             3.85          8.11                 4.04   \n",
      "\n",
      "   cardiovascular_disease  stroke  diabetic  \n",
      "0                    99.1   99.69     100.0  \n",
      "1                     0.9    0.31       NaN  \n",
      "\n",
      "Independent t-test results:\n",
      "age: t-statistic=nan, p-value=nan\n",
      "pulse_rate: t-statistic=nan, p-value=nan\n",
      "systolic_bp: t-statistic=nan, p-value=nan\n",
      "diastolic_bp: t-statistic=nan, p-value=nan\n",
      "glucose: t-statistic=nan, p-value=nan\n",
      "height: t-statistic=nan, p-value=nan\n",
      "weight: t-statistic=nan, p-value=nan\n",
      "bmi: t-statistic=nan, p-value=nan\n",
      "\n",
      "Chi-square test results:\n",
      "gender: chi-square=0.00, p-value=1.0000\n",
      "family_diabetes: chi-square=0.00, p-value=1.0000\n",
      "hypertensive: chi-square=0.00, p-value=1.0000\n",
      "family_hypertension: chi-square=0.00, p-value=1.0000\n",
      "cardiovascular_disease: chi-square=0.00, p-value=1.0000\n",
      "stroke: chi-square=0.00, p-value=1.0000\n",
      "diabetic: chi-square=0.00, p-value=1.0000\n"
     ]
    }
   ],
   "source": [
    "import pandas as pd\n",
    "import scipy.stats as stats\n",
    "\n",
    "# Load the dataset\n",
    "#df = pd.read_csv('your_dataset.csv')  # Replace 'your_dataset.csv' with the actual filename and path\n",
    "df=df[df['diabetic']==0]\n",
    "# Continuous variables\n",
    "continuous_vars = ['age', 'pulse_rate', 'systolic_bp', 'diastolic_bp', 'glucose', 'height', 'weight', 'bmi']\n",
    "continuous_stats = df[continuous_vars].describe().loc[['mean', 'std']].T\n",
    "continuous_stats['mean ± SD'] = continuous_stats['mean'].round(2).astype(str) + ' ± ' + continuous_stats['std'].round(2).astype(str)\n",
    "continuous_stats.drop(['mean', 'std'], axis=1, inplace=True)\n",
    "print(\"Mean ± SD for continuous variables:\")\n",
    "print(continuous_stats)\n",
    "\n",
    "# Categorical variables\n",
    "categorical_vars = ['gender', 'family_diabetes', 'hypertensive', 'family_hypertension', 'cardiovascular_disease', 'stroke', 'diabetic']\n",
    "categorical_stats = {}\n",
    "for var in categorical_vars:\n",
    "    freq = df[var].value_counts(normalize=True) * 100\n",
    "    categorical_stats[var] = freq.round(2)\n",
    "categorical_stats = pd.DataFrame(categorical_stats)\n",
    "print(\"\\nFrequency (%) for categorical variables:\")\n",
    "print(categorical_stats)\n",
    "\n",
    "# Statistical tests\n",
    "independent_t_results = {}\n",
    "chi_square_results = {}\n",
    "\n",
    "# Perform independent t-tests\n",
    "for var in continuous_vars:\n",
    "    t_stat, p_value = stats.ttest_ind(df[df['diabetic'] == 1][var], df[df['diabetic'] == 0][var])\n",
    "    independent_t_results[var] = {'t-statistic': t_stat, 'p-value': p_value}\n",
    "\n",
    "# Perform chi-square tests\n",
    "for var in categorical_vars:\n",
    "    contingency_table = pd.crosstab(df['diabetic'], df[var])\n",
    "    chi2, p_value, _, _ = stats.chi2_contingency(contingency_table)\n",
    "    chi_square_results[var] = {'chi-square': chi2, 'p-value': p_value}\n",
    "\n",
    "print(\"\\nIndependent t-test results:\")\n",
    "for var, results in independent_t_results.items():\n",
    "    print(f\"{var}: t-statistic={results['t-statistic']:.2f}, p-value={results['p-value']:.4f}\")\n",
    "\n",
    "print(\"\\nChi-square test results:\")\n",
    "for var, results in chi_square_results.items():\n",
    "    print(f\"{var}: chi-square={results['chi-square']:.2f}, p-value={results['p-value']:.4f}\")\n"
   ]
  },
  {
   "cell_type": "code",
   "execution_count": 6,
   "id": "329cdd20",
   "metadata": {},
   "outputs": [],
   "source": [
    "features = ['age', 'gender', 'pulse_rate', 'systolic_bp', 'diastolic_bp', 'glucose',\n",
    "       'height', 'weight', 'bmi', 'family_diabetes', 'hypertensive',\n",
    "       'family_hypertension', 'cardiovascular_disease', 'stroke', 'diabetic']"
   ]
  },
  {
   "cell_type": "code",
   "execution_count": 7,
   "id": "6df91008",
   "metadata": {},
   "outputs": [],
   "source": [
    "diabetes_df =df"
   ]
  },
  {
   "cell_type": "code",
   "execution_count": 18,
   "id": "a71afe43",
   "metadata": {},
   "outputs": [
    {
     "name": "stdout",
     "output_type": "stream",
     "text": [
      "Variable 'age' is significantly associated with diabetes (p-value=0.0).\n",
      "Variable 'pulse_rate' is significantly associated with diabetes (p-value=0.0).\n",
      "Variable 'systolic_bp' is significantly associated with diabetes (p-value=0.0).\n",
      "Variable 'diastolic_bp' is significantly associated with diabetes (p-value=0.0).\n",
      "Variable 'glucose' is significantly associated with diabetes (p-value=0.0).\n",
      "Variable 'height' is significantly associated with diabetes (p-value=0.0).\n",
      "Variable 'weight' is significantly associated with diabetes (p-value=0.0).\n",
      "Variable 'bmi' is significantly associated with diabetes (p-value=0.0).\n"
     ]
    }
   ],
   "source": [
    "# Perform independent t-test for continuous variables\n",
    "import pandas as pd\n",
    "import numpy as np\n",
    "from scipy.stats import ttest_ind, chi2_contingency\n",
    "continuous_vars = ['age', 'pulse_rate', 'systolic_bp', 'diastolic_bp', 'glucose','height', 'weight', 'bmi',]\n",
    "for var in continuous_vars:\n",
    "    #diabetic_vals = df[df['diabetic'] == 'No'][var]\n",
    "    #non_diabetic_vals = df[df['diabetic'] == 'Yes'][var]\n",
    "    #contingency_table = pd.crosstab(df['diabetic'], df[var])\n",
    "    t_stat, p_value = ttest_ind(df['diabetic'], df[var])\n",
    "    p_value = round(p_value, 6)\n",
    "    if p_value < 0.05:\n",
    "        print(f\"Variable '{var}' is significantly associated with diabetes (p-value={p_value}).\")\n"
   ]
  },
  {
   "cell_type": "code",
   "execution_count": 12,
   "id": "1fbfbe75",
   "metadata": {},
   "outputs": [
    {
     "name": "stdout",
     "output_type": "stream",
     "text": [
      "Variable 'hypertensive' is significantly associated with diabetes (p-value=1.1992870979713135e-148).\n",
      "Variable 'cardiovascular_disease' is significantly associated with diabetes (p-value=7.316469531822227e-11).\n",
      "Variable 'stroke' is significantly associated with diabetes (p-value=0.03975765802490102).\n"
     ]
    }
   ],
   "source": [
    "# Perform chi-square test for categorical variables\n",
    "categorical_vars = ['gender', 'family_diabetes', 'hypertensive',\n",
    "       'family_hypertension', 'cardiovascular_disease', 'stroke']\n",
    "for var in categorical_vars:\n",
    "    contingency_table = pd.crosstab(df['diabetic'], df[var])\n",
    "    chi2, p_value, _, _ = chi2_contingency(contingency_table)\n",
    "    if p_value < 0.05:\n",
    "        print(f\"Variable '{var}' is significantly associated with diabetes (p-value={p_value}).\")"
   ]
  },
  {
   "cell_type": "code",
   "execution_count": 13,
   "id": "c15e2cbe",
   "metadata": {},
   "outputs": [
    {
     "name": "stdout",
     "output_type": "stream",
     "text": [
      "+----+------------------------+-----------------------------+-------------+---------+-------------+------------------+--------+----------+--------+-------------------+---------+-------+----------------------+----------------------------+--------------+-------------+------------+-----------+--------------+---------------+\n",
      "|    | Feature                |   Distinct count Unique (%) |        Mean |   Range |   Zeros (%) |   5th percentile |     Q1 |   Median |     Q3 |   95th percentile |   Range |   IQR |   Standard deviation |   Coefficient of variation |     Kurtosis |         MAD |   Skewness |       Sum |     Variance |   Memory size |\n",
      "|----+------------------------+-----------------------------+-------------+---------+-------------+------------------+--------+----------+--------+-------------------+---------+-------+----------------------+----------------------------+--------------+-------------+------------+-----------+--------------+---------------|\n",
      "|  0 | age                    |                    1.56336  |  45.5338    |  104    |   0         |           25     |  35    |    45    |  55    |            70     |  104    | 20    |           14.3212    |                  0.314517  |   -0.174181  | 11.8819     |   0.432927 | 247567    | 205.095      |       42.4766 |\n",
      "|  1 | gender                 |                    0.036785 |   0.290234  |    1    |  70.9766    |            0     |   0    |     0    |   1    |             1     |    1    |  1    |            0.453912  |                  1.56395   |   -1.14553   |  0.411996   |   0.924601 |   1578    |   0.206036   |       42.4766 |\n",
      "|  2 | pulse_rate             |                    1.69211  |  76.769     |  128    |   0         |           58     |  69    |    76    |  84    |            98     |  128    | 15    |           12.2901    |                  0.160092  |    1.05212   |  9.55199    |   0.303944 | 417393    | 151.046      |       42.4766 |\n",
      "|  3 | systolic_bp            |                    2.50138  | 133.86      |  169    |   0         |          102     | 119    |   130    | 147    |           176     |  169    | 28    |           22.293     |                  0.16654   |    0.527318  | 17.5011     |   0.731803 | 727796    | 496.979      |       42.4766 |\n",
      "|  4 | diastolic_bp           |                    1.34265  |  82.0647    |   74    |   0         |           63     |  73    |    81    |  90    |           105     |   74    | 17    |           12.4896    |                  0.152192  |    0.0441882 |  9.91503    |   0.403734 | 446186    | 155.99       |       42.4766 |\n",
      "|  5 | glucose                |                   17.3073   |   7.54068   |   33.46 |   0.0183925 |            5     |   6    |     6.92 |   8.12 |            12.44  |   33.46 |  2.12 |            2.92308   |                  0.387641  |   13.8331    |  1.80783    |   3.01233  |  40998.7  |   8.5444     |       42.4766 |\n",
      "|  6 | height                 |                    1.01159  |   1.54857   |    1.6  |   0         |            1.42  |   1.52 |     1.55 |   1.6  |             1.68  |    1.6  |  0.08 |            0.0809555 |                  0.0522775 |   14.7823    |  0.0580567  |  -1.14463  |   8419.58 |   0.00655379 |       42.4766 |\n",
      "|  7 | weight                 |                    9.43535  |  53.6268    |   97.7  |   0         |           38.2   |  46.7  |    53    |  59.9  |            71.7   |   97.7  | 13.2  |           10.0916    |                  0.188181  |    0.688483  |  7.89564    |   0.453752 | 291569    | 101.839      |       42.4766 |\n",
      "|  8 | bmi                    |                   25.4736   |  22.4723    |  572.91 |   0         |           16.476 |  19.63 |    21.87 |  24.49 |            29.684 |  572.91 |  4.86 |            8.77876   |                  0.390648  | 2879.73      |  3.21947    |  46.5097   | 122182    |  77.0667     |       42.4766 |\n",
      "|  9 | family_diabetes        |                    0.036785 |   0.0373368 |    1    |  96.2663    |            0     |   0    |     0    |   0    |             0     |    1    |  0    |            0.189603  |                  5.07819   |   21.8432    |  0.0718855  |   4.88213  |    203    |   0.0359493  |       42.4766 |\n",
      "| 10 | hypertensive           |                    0.036785 |   0.109803  |    1    |  89.0197    |            0     |   0    |     0    |   0    |             1     |    1    |  0    |            0.312673  |                  2.84758   |    4.23555   |  0.195493   |   2.4968   |    597    |   0.0977644  |       42.4766 |\n",
      "| 11 | family_hypertension    |                    0.036785 |   0.0395439 |    1    |  96.0456    |            0     |   0    |     0    |   0    |             0     |    1    |  0    |            0.194903  |                  4.92878   |   20.3494    |  0.0759603  |   4.72672  |    215    |   0.0379871  |       42.4766 |\n",
      "| 12 | cardiovascular_disease |                    0.036785 |   0.0115873 |    1    |  98.8413    |            0     |   0    |     0    |   0    |             0     |    1    |  0    |            0.107029  |                  9.23674   |   81.3892    |  0.022906   |   9.13013  |     63    |   0.0114551  |       42.4766 |\n",
      "| 13 | stroke                 |                    0.036785 |   0.0036785 |    1    |  99.6322    |            0     |   0    |     0    |   0    |             0     |    1    |  0    |            0.0605445 |                 16.459     |  267.1       |  0.00732994 |  16.4013   |     20    |   0.00366564 |       42.4766 |\n",
      "| 14 | diabetic               |                    0.036785 |   0.0632702 |    1    |  93.673     |            0     |   0    |     0    |   0    |             1     |    1    |  0    |            0.243471  |                  3.84811   |   10.8839    |  0.118534   |   3.58886  |    344    |   0.059278   |       42.4766 |\n",
      "+----+------------------------+-----------------------------+-------------+---------+-------------+------------------+--------+----------+--------+-------------------+---------+-------+----------------------+----------------------------+--------------+-------------+------------+-----------+--------------+---------------+\n"
     ]
    }
   ],
   "source": [
    "import pandas as pd\n",
    "from tabulate import tabulate\n",
    "# Initialize an empty list to store the statistics for each feature\n",
    "statistics = []\n",
    "\n",
    "# Iterate over each feature and extract the statistics\n",
    "for feature in features:\n",
    "    distinct_count = diabetes_df[feature].nunique() / len(diabetes_df) * 100\n",
    "    mean = diabetes_df[feature].mean()\n",
    "    data_range = diabetes_df[feature].max() - diabetes_df[feature].min()\n",
    "    zeros_percent = (diabetes_df[feature] == 0).mean() * 100\n",
    "    percentile_5th = diabetes_df[feature].quantile(0.05)\n",
    "    q1 = diabetes_df[feature].quantile(0.25)\n",
    "    median = diabetes_df[feature].median()\n",
    "    q3 = diabetes_df[feature].quantile(0.75)\n",
    "    percentile_95th = diabetes_df[feature].quantile(0.95)\n",
    "    value_range = diabetes_df[feature].max() - diabetes_df[feature].min()\n",
    "    iqr = q3 - q1\n",
    "    std_dev = diabetes_df[feature].std()\n",
    "    coefficient_of_variation = std_dev / mean\n",
    "    kurtosis = diabetes_df[feature].kurtosis()\n",
    "    mad = diabetes_df[feature].mad()\n",
    "    skewness = diabetes_df[feature].skew()\n",
    "    total_sum = diabetes_df[feature].sum()\n",
    "    variance = diabetes_df[feature].var()\n",
    "    memory_size = diabetes_df[feature].memory_usage(index=False) / 1024  # in KB\n",
    "\n",
    "    # Append the statistics for the current feature to the list\n",
    "    statistics.append([feature, distinct_count, mean, data_range, zeros_percent,\n",
    "                       percentile_5th, q1, median, q3, percentile_95th, value_range,\n",
    "                       iqr, std_dev, coefficient_of_variation, kurtosis, mad,\n",
    "                       skewness, total_sum, variance, memory_size])\n",
    "\n",
    "# Create a DataFrame from the list of statistics\n",
    "statistics_df = pd.DataFrame(statistics, columns=['Feature', 'Distinct count Unique (%)', 'Mean', 'Range', 'Zeros (%)',\n",
    "                                                  '5th percentile', 'Q1', 'Median', 'Q3', '95th percentile',\n",
    "                                                  'Range', 'IQR', 'Standard deviation', 'Coefficient of variation',\n",
    "                                                  'Kurtosis', 'MAD', 'Skewness', 'Sum', 'Variance', 'Memory size'])\n",
    "\n",
    "# Convert the DataFrame to a tabular format\n",
    "table = tabulate(statistics_df, headers='keys', tablefmt='psql')\n",
    "\n",
    "# Print the tabular format\n",
    "print(table)\n",
    "\n"
   ]
  },
  {
   "cell_type": "code",
   "execution_count": 15,
   "id": "50f06284",
   "metadata": {},
   "outputs": [],
   "source": [
    "statistics_df.to_csv(\"Data_Description.csv\")"
   ]
  },
  {
   "cell_type": "code",
   "execution_count": 17,
   "id": "6c8b3086",
   "metadata": {},
   "outputs": [
    {
     "data": {
      "text/plain": [
       "array([0, 0, 0, ..., 0, 0, 0], dtype=int64)"
      ]
     },
     "execution_count": 17,
     "metadata": {},
     "output_type": "execute_result"
    }
   ],
   "source": [
    "y = df['diabetic'].values\n",
    "y"
   ]
  },
  {
   "cell_type": "code",
   "execution_count": 18,
   "id": "9537d5c1",
   "metadata": {},
   "outputs": [],
   "source": [
    "x = df.drop(['diabetic'],axis=1)"
   ]
  },
  {
   "cell_type": "code",
   "execution_count": 19,
   "id": "8cb65925",
   "metadata": {},
   "outputs": [],
   "source": [
    "import numpy as np\n",
    "import pandas as pd\n",
    "from sklearn.feature_selection import SelectKBest, f_classif\n",
    "from sklearn.ensemble import AdaBoostClassifier, BaggingClassifier\n",
    "from sklearn.svm import SVC\n",
    "from sklearn.ensemble import RandomForestClassifier\n",
    "from sklearn.naive_bayes import GaussianNB\n",
    "from sklearn.neighbors import KNeighborsClassifier\n",
    "from sklearn.metrics import accuracy_score\n",
    "from sklearn.model_selection import train_test_split\n",
    "from statistics import mean"
   ]
  },
  {
   "cell_type": "code",
   "execution_count": 20,
   "id": "9f023131",
   "metadata": {},
   "outputs": [
    {
     "name": "stdout",
     "output_type": "stream",
     "text": [
      "Index(['age', 'pulse_rate', 'systolic_bp', 'diastolic_bp', 'glucose', 'weight',\n",
      "       'hypertensive', 'cardiovascular_disease'],\n",
      "      dtype='object')\n"
     ]
    }
   ],
   "source": [
    "from sklearn.feature_selection import SelectKBest, f_classif\n",
    "\n",
    "# Set the threshold value\n",
    "threshold = 10\n",
    "\n",
    "# Initialize SelectKBest with f_classif score function\n",
    "selector = SelectKBest(score_func=f_classif)\n",
    "\n",
    "# Fit the selector on the data\n",
    "selector.fit(x, y)\n",
    "\n",
    "# Get the scores and p-values\n",
    "scores = selector.scores_\n",
    "p_values = selector.pvalues_\n",
    "\n",
    "# Set the threshold and select features above the threshold\n",
    "selected_features = x.columns[scores > threshold]\n",
    "\n",
    "print(selected_features )"
   ]
  },
  {
   "cell_type": "code",
   "execution_count": 21,
   "id": "056724fe",
   "metadata": {},
   "outputs": [],
   "source": [
    "#selected_features = ['age', 'systolic_bp', 'diastolic_bp', 'glucose', 'weight', 'hypertensive', 'cardiovascular_disease']\n",
    "X_selected = x[selected_features]\n"
   ]
  },
  {
   "cell_type": "code",
   "execution_count": 22,
   "id": "2bad4b63",
   "metadata": {},
   "outputs": [
    {
     "name": "stdout",
     "output_type": "stream",
     "text": [
      "Feature: age\n",
      "Score: 775.4406486136395\n",
      "\n",
      "Feature: pulse_rate\n",
      "Score: 559.164933774742\n",
      "\n",
      "Feature: systolic_bp\n",
      "Score: 136.86608207501098\n",
      "\n",
      "Feature: diastolic_bp\n",
      "Score: 134.2668933031381\n",
      "\n",
      "Feature: glucose\n",
      "Score: 64.3312763261427\n",
      "\n",
      "Feature: weight\n",
      "Score: 46.26464811325997\n",
      "\n",
      "Feature: hypertensive\n",
      "Score: 42.02976328131725\n",
      "\n",
      "Feature: cardiovascular_disease\n",
      "Score: 11.531994554390288\n",
      "\n"
     ]
    }
   ],
   "source": [
    "# Print the selected feature names and their scores\n",
    "# Sort the scores in descending order\n",
    "sorted_indices = np.argsort(scores)[::-1]\n",
    "sorted_scores = scores[sorted_indices]\n",
    "for feature, score in zip(selected_features, sorted_scores):\n",
    "    print(\"Feature:\", feature)\n",
    "    print(\"Score:\", score)\n",
    "    print()"
   ]
  },
  {
   "cell_type": "code",
   "execution_count": 23,
   "id": "eb319723",
   "metadata": {},
   "outputs": [
    {
     "name": "stdout",
     "output_type": "stream",
     "text": [
      "Training target statistics: Counter({0: 5093, 1: 5093})\n"
     ]
    }
   ],
   "source": [
    "from imblearn.over_sampling import RandomOverSampler\n",
    "\n",
    "ros = RandomOverSampler(random_state=42)\n",
    "X_selected, y = ros.fit_resample(X_selected, y)\n",
    "#X_test, y_test = ros.fit_resample(X_test, y_test)\n",
    "\n",
    "from collections import Counter\n",
    "\n",
    "print(f\"Training target statistics: {Counter(y)}\")\n",
    "#print(f\"Testing target statistics: {Counter(y_test)}\")"
   ]
  },
  {
   "cell_type": "code",
   "execution_count": 24,
   "id": "ab4d7d4b",
   "metadata": {},
   "outputs": [],
   "source": [
    "# Feature selection using Correlation Feature Selection coupled with Forest Panelized Attributes (CFS–FPA)\n",
    "#selector = SelectKBest(score_func=f_classif, k=10)\n",
    "#X_selected = selector.fit_transform(x, y)"
   ]
  },
  {
   "cell_type": "code",
   "execution_count": 26,
   "id": "55ab6448",
   "metadata": {},
   "outputs": [],
   "source": [
    "X_train, X_test, y_train, y_test = train_test_split(X_selected, y, test_size=0.2, random_state=42)"
   ]
  },
  {
   "cell_type": "code",
   "execution_count": 27,
   "id": "ddec0e86",
   "metadata": {},
   "outputs": [],
   "source": [
    "#from imblearn.combine import SMOTETomek\n",
    "\n",
    "#smote_tomek = SMOTETomek(random_state=42)\n",
    "#X_train, y_train = smote_tomek.fit_resample(X_train, y_train)\n"
   ]
  },
  {
   "cell_type": "code",
   "execution_count": 28,
   "id": "6947ed78",
   "metadata": {},
   "outputs": [],
   "source": [
    "# from imblearn.combine import SMOTEENN\n",
    "\n",
    "# smote_enn = SMOTEENN(random_state=42)\n",
    "# X_train, y_train = smote_enn.fit_resample(X_train, y_train)\n"
   ]
  },
  {
   "cell_type": "code",
   "execution_count": 14,
   "id": "45e64779",
   "metadata": {},
   "outputs": [],
   "source": [
    "# from imblearn.over_sampling import ADASYN\n",
    "\n",
    "# adasyn = ADASYN(random_state=42)\n",
    "# X_train, y_train = adasyn.fit_resample(X_train, y_train)\n"
   ]
  },
  {
   "cell_type": "code",
   "execution_count": 15,
   "id": "2260f905",
   "metadata": {},
   "outputs": [],
   "source": [
    "# from imblearn.under_sampling import RandomUnderSampler\n",
    "\n",
    "# rus = RandomUnderSampler(random_state=42)\n",
    "# X_train, y_train = rus.fit_resample(X_train, y_train)\n"
   ]
  },
  {
   "cell_type": "code",
   "execution_count": 16,
   "id": "fc8e53ee",
   "metadata": {},
   "outputs": [
    {
     "name": "stdout",
     "output_type": "stream",
     "text": [
      "Training target statistics: Counter({0: 4074, 1: 4074})\n",
      "Testing target statistics: Counter({0: 1019, 1: 69})\n"
     ]
    }
   ],
   "source": [
    "from imblearn.over_sampling import RandomOverSampler\n",
    "\n",
    "ros = RandomOverSampler(random_state=42)\n",
    "X_train, y_train = ros.fit_resample(X_train, y_train)\n",
    "#X_test, y_test = ros.fit_resample(X_test, y_test)\n",
    "\n",
    "from collections import Counter\n",
    "\n",
    "print(f\"Training target statistics: {Counter(y_train)}\")\n",
    "print(f\"Testing target statistics: {Counter(y_test)}\")"
   ]
  },
  {
   "cell_type": "code",
   "execution_count": 17,
   "id": "a80c3067",
   "metadata": {},
   "outputs": [],
   "source": [
    "# from imblearn.over_sampling import SMOTE\n",
    "# # create SMOTE object\n",
    "# smote = SMOTE(random_state=42)\n",
    "\n",
    "# # resample the training data using SMOTE\n",
    "# X_train, y_train = smote.fit_resample(X_train, y_train)\n",
    "# from sklearn.model_selection import train_test_split\n",
    "# from collections import Counter\n",
    "\n",
    "# print(f\"Training target statistics: {Counter(y_train)}\")\n",
    "# print(f\"Testing target statistics: {Counter(y_test)}\")"
   ]
  },
  {
   "cell_type": "code",
   "execution_count": 29,
   "id": "e79ffb40",
   "metadata": {},
   "outputs": [],
   "source": [
    "# Standardize the input features\n",
    "from sklearn.preprocessing import StandardScaler\n",
    "scaler = StandardScaler()\n",
    "X_train_scaled = scaler.fit_transform(X_train)\n",
    "X_test_scaled = scaler.transform(X_test)"
   ]
  },
  {
   "cell_type": "code",
   "execution_count": 26,
   "id": "1f5ee43f",
   "metadata": {},
   "outputs": [
    {
     "data": {
      "text/plain": [
       "AdaBoostClassifier(base_estimator=SVC(probability=True))"
      ]
     },
     "execution_count": 26,
     "metadata": {},
     "output_type": "execute_result"
    }
   ],
   "source": [
    "# AdaBoosting\n",
    "\n",
    "# Support Vector Machine (SVM)\n",
    "svm = SVC(probability=True)\n",
    "svm_ada = AdaBoostClassifier(base_estimator=svm)\n",
    "svm_ada.fit(X_train_scaled, y_train)\n"
   ]
  },
  {
   "cell_type": "code",
   "execution_count": 27,
   "id": "e35385c1",
   "metadata": {},
   "outputs": [
    {
     "data": {
      "text/plain": [
       "AdaBoostClassifier(base_estimator=RandomForestClassifier())"
      ]
     },
     "execution_count": 27,
     "metadata": {},
     "output_type": "execute_result"
    }
   ],
   "source": [
    "\n",
    "# Random Forest\n",
    "rf = RandomForestClassifier()\n",
    "rf_ada = AdaBoostClassifier(base_estimator=rf)\n",
    "rf_ada.fit(X_train_scaled, y_train)"
   ]
  },
  {
   "cell_type": "code",
   "execution_count": 28,
   "id": "b9183200",
   "metadata": {},
   "outputs": [
    {
     "data": {
      "text/plain": [
       "AdaBoostClassifier(algorithm='SAMME', base_estimator=Perceptron())"
      ]
     },
     "execution_count": 28,
     "metadata": {},
     "output_type": "execute_result"
    }
   ],
   "source": [
    "from sklearn.linear_model import Perceptron\n",
    "# Naïve Bayes\n",
    "nb = Perceptron()\n",
    "nb_ada = AdaBoostClassifier(base_estimator=nb,algorithm='SAMME')\n",
    "nb_ada.fit(X_train_scaled, y_train)\n"
   ]
  },
  {
   "cell_type": "code",
   "execution_count": 29,
   "id": "6bc70573",
   "metadata": {},
   "outputs": [
    {
     "data": {
      "text/plain": [
       "AdaBoostClassifier(base_estimator=LogisticRegression(max_iter=1000))"
      ]
     },
     "execution_count": 29,
     "metadata": {},
     "output_type": "execute_result"
    }
   ],
   "source": [
    "from sklearn.linear_model import LogisticRegression\n",
    "# Logistic Regression\n",
    "logreg = LogisticRegression(max_iter=1000)\n",
    "\n",
    "# AdaBoost with Logistic Regression\n",
    "logreg_ada = AdaBoostClassifier(base_estimator=logreg)\n",
    "logreg_ada.fit(X_train_scaled, y_train)"
   ]
  },
  {
   "cell_type": "code",
   "execution_count": 30,
   "id": "a99062b7",
   "metadata": {},
   "outputs": [
    {
     "data": {
      "text/plain": [
       "BaggingClassifier(base_estimator=LogisticRegression(max_iter=1000))"
      ]
     },
     "execution_count": 30,
     "metadata": {},
     "output_type": "execute_result"
    }
   ],
   "source": [
    "\n",
    "\n",
    "# Bagging using the voting average technique\n",
    "\n",
    "# Support Vector Machine (SVM)\n",
    "svm_bagging = BaggingClassifier(base_estimator=svm, n_estimators=10)\n",
    "svm_bagging.fit(X_train_scaled, y_train)\n",
    "\n",
    "# Random Forest\n",
    "rf_bagging = BaggingClassifier(base_estimator=rf, n_estimators=10)\n",
    "rf_bagging.fit(X_train_scaled, y_train)\n",
    "\n",
    "# Naïve Bayes\n",
    "nb_bagging = BaggingClassifier(base_estimator=nb, n_estimators=10)\n",
    "nb_bagging.fit(X_train_scaled, y_train)\n",
    "\n",
    "logreg_bagging = BaggingClassifier(base_estimator=logreg, n_estimators=10)\n",
    "logreg_bagging.fit(X_train_scaled, y_train)\n"
   ]
  },
  {
   "cell_type": "code",
   "execution_count": 31,
   "id": "67359964",
   "metadata": {},
   "outputs": [],
   "source": [
    "\n",
    "# Make predictions on the test set\n",
    "svm_ada_preds = svm_ada.predict(X_test_scaled)\n",
    "rf_ada_preds = rf_ada.predict(X_test_scaled)\n",
    "nb_ada_preds = nb_ada.predict(X_test_scaled)\n",
    "logreg_ada_preds = logreg_ada.predict(X_test_scaled)\n",
    "\n",
    "svm_bagging_preds = svm_bagging.predict(X_test_scaled)\n",
    "rf_bagging_preds = rf_bagging.predict(X_test_scaled)\n",
    "nb_bagging_preds = nb_bagging.predict(X_test_scaled)\n",
    "logreg_bagging_preds = logreg_bagging.predict(X_test_scaled)\n",
    "\n"
   ]
  },
  {
   "cell_type": "code",
   "execution_count": 32,
   "id": "0f86c725",
   "metadata": {},
   "outputs": [],
   "source": [
    "#total =  (svm_ada_preds+rf_ada_preds+nb_ada_preds+logreg_ada_preds+ svm_bagging_preds+rf_bagging_preds+nb_bagging_preds+logreg_bagging_preds)/8"
   ]
  },
  {
   "cell_type": "code",
   "execution_count": 33,
   "id": "d21c2696",
   "metadata": {},
   "outputs": [
    {
     "name": "stdout",
     "output_type": "stream",
     "text": [
      "Accuracy: 0.8685661764705882\n"
     ]
    },
    {
     "name": "stderr",
     "output_type": "stream",
     "text": [
      "C:\\Users\\HP\\AppData\\Local\\Temp\\ipykernel_648\\2400068727.py:14: FutureWarning: Unlike other reduction functions (e.g. `skew`, `kurtosis`), the default behavior of `mode` typically preserves the axis it acts along. In SciPy 1.11.0, this behavior will change: the default value of `keepdims` will become False, the `axis` over which the statistic is taken will be eliminated, and the value None will no longer be accepted. Set `keepdims` to True or False to avoid this warning.\n",
      "  ensemble_preds = mode([svm_ada_preds, rf_ada_preds, nb_ada_preds, logreg_ada_preds,\n"
     ]
    }
   ],
   "source": [
    "from scipy.stats import mode\n",
    "\n",
    "# Convert predictions to 1D arrays\n",
    "svm_ada_preds = svm_ada_preds.ravel()\n",
    "rf_ada_preds = rf_ada_preds.ravel()\n",
    "nb_ada_preds = nb_ada_preds.ravel()\n",
    "logreg_ada_preds = logreg_ada_preds.ravel()\n",
    "svm_bagging_preds = svm_bagging_preds.ravel()\n",
    "rf_bagging_preds = rf_bagging_preds.ravel()\n",
    "nb_bagging_preds = nb_bagging_preds.ravel()\n",
    "logreg_bagging_preds = logreg_bagging_preds.ravel()\n",
    "\n",
    "# Ensemble predictions using voting average technique\n",
    "ensemble_preds = mode([svm_ada_preds, rf_ada_preds, nb_ada_preds, logreg_ada_preds,\n",
    "                       svm_bagging_preds, rf_bagging_preds, nb_bagging_preds, logreg_bagging_preds], axis=0)[0]\n",
    "\n",
    "ensemble_preds = ensemble_preds.reshape(y_test.shape)\n",
    "\n",
    "# Calculate accuracy\n",
    "accuracy = accuracy_score(y_test, ensemble_preds)\n",
    "print(\"Accuracy:\", accuracy)\n"
   ]
  },
  {
   "cell_type": "code",
   "execution_count": 27,
   "id": "7339345f",
   "metadata": {},
   "outputs": [
    {
     "data": {
      "text/plain": [
       "array([False, False, False, ...,  True,  True,  True])"
      ]
     },
     "execution_count": 27,
     "metadata": {},
     "output_type": "execute_result"
    }
   ],
   "source": [
    "ensemble_preds==1"
   ]
  },
  {
   "cell_type": "code",
   "execution_count": 28,
   "id": "16c9d33f",
   "metadata": {},
   "outputs": [],
   "source": [
    "from sklearn.metrics import precision_score, recall_score, f1_score\n",
    "\n",
    "precision = precision_score(y_test, ensemble_preds)\n",
    "recall = recall_score(y_test, ensemble_preds)\n",
    "f1 = f1_score(y_test, ensemble_preds)\n"
   ]
  },
  {
   "cell_type": "code",
   "execution_count": 29,
   "id": "8eea6c60",
   "metadata": {},
   "outputs": [
    {
     "data": {
      "text/plain": [
       "0.8511904761904762"
      ]
     },
     "execution_count": 29,
     "metadata": {},
     "output_type": "execute_result"
    }
   ],
   "source": [
    "precision "
   ]
  },
  {
   "cell_type": "code",
   "execution_count": 30,
   "id": "c6526a7c",
   "metadata": {},
   "outputs": [
    {
     "data": {
      "text/plain": [
       "0.6982421875"
      ]
     },
     "execution_count": 30,
     "metadata": {},
     "output_type": "execute_result"
    }
   ],
   "source": [
    "recall"
   ]
  },
  {
   "cell_type": "code",
   "execution_count": 31,
   "id": "4d244ea3",
   "metadata": {},
   "outputs": [
    {
     "data": {
      "text/plain": [
       "0.7671673819742489"
      ]
     },
     "execution_count": 31,
     "metadata": {},
     "output_type": "execute_result"
    }
   ],
   "source": [
    "f1"
   ]
  },
  {
   "cell_type": "code",
   "execution_count": 32,
   "id": "3ff35384",
   "metadata": {},
   "outputs": [
    {
     "data": {
      "text/plain": [
       "array([[899, 125],\n",
       "       [309, 715]], dtype=int64)"
      ]
     },
     "execution_count": 32,
     "metadata": {},
     "output_type": "execute_result"
    }
   ],
   "source": [
    "# Confusion matrix\n",
    "from sklearn.metrics import confusion_matrix\n",
    "cm = confusion_matrix(y_test, ensemble_preds)\n",
    "cm"
   ]
  },
  {
   "cell_type": "code",
   "execution_count": null,
   "id": "755838a7",
   "metadata": {},
   "outputs": [],
   "source": []
  },
  {
   "cell_type": "code",
   "execution_count": 31,
   "id": "792db582",
   "metadata": {},
   "outputs": [],
   "source": [
    "import numpy as np\n",
    "import pandas as pd\n",
    "from sklearn.model_selection import train_test_split\n",
    "from sklearn.preprocessing import StandardScaler\n",
    "from sklearn.metrics import accuracy_score\n",
    "from tensorflow.keras.models import Sequential\n",
    "from tensorflow.keras.layers import Dense\n"
   ]
  },
  {
   "cell_type": "code",
   "execution_count": 20,
   "id": "e6ed561e",
   "metadata": {},
   "outputs": [
    {
     "name": "stdout",
     "output_type": "stream",
     "text": [
      "Epoch 1/200\n",
      "255/255 [==============================] - 1s 2ms/step - loss: 0.5738 - accuracy: 0.7180\n",
      "Epoch 2/200\n",
      "255/255 [==============================] - 0s 2ms/step - loss: 0.4580 - accuracy: 0.7938\n",
      "Epoch 3/200\n",
      "255/255 [==============================] - 0s 2ms/step - loss: 0.4400 - accuracy: 0.7984\n",
      "Epoch 4/200\n",
      "255/255 [==============================] - 0s 2ms/step - loss: 0.4314 - accuracy: 0.8024\n",
      "Epoch 5/200\n",
      "255/255 [==============================] - 0s 2ms/step - loss: 0.4241 - accuracy: 0.8089\n",
      "Epoch 6/200\n",
      "255/255 [==============================] - 0s 2ms/step - loss: 0.4185 - accuracy: 0.8126\n",
      "Epoch 7/200\n",
      "255/255 [==============================] - 0s 2ms/step - loss: 0.4135 - accuracy: 0.8143\n",
      "Epoch 8/200\n",
      "255/255 [==============================] - 0s 2ms/step - loss: 0.4095 - accuracy: 0.8189\n",
      "Epoch 9/200\n",
      "255/255 [==============================] - 0s 2ms/step - loss: 0.4060 - accuracy: 0.8198\n",
      "Epoch 10/200\n",
      "255/255 [==============================] - 0s 2ms/step - loss: 0.4008 - accuracy: 0.8249\n",
      "Epoch 11/200\n",
      "255/255 [==============================] - 0s 2ms/step - loss: 0.3965 - accuracy: 0.8265\n",
      "Epoch 12/200\n",
      "255/255 [==============================] - 0s 2ms/step - loss: 0.3910 - accuracy: 0.8293\n",
      "Epoch 13/200\n",
      "255/255 [==============================] - 1s 2ms/step - loss: 0.3874 - accuracy: 0.8293\n",
      "Epoch 14/200\n",
      "255/255 [==============================] - 0s 2ms/step - loss: 0.3832 - accuracy: 0.8315\n",
      "Epoch 15/200\n",
      "255/255 [==============================] - 1s 2ms/step - loss: 0.3794 - accuracy: 0.8316\n",
      "Epoch 16/200\n",
      "255/255 [==============================] - 1s 2ms/step - loss: 0.3759 - accuracy: 0.8332\n",
      "Epoch 17/200\n",
      "255/255 [==============================] - 0s 2ms/step - loss: 0.3724 - accuracy: 0.8325\n",
      "Epoch 18/200\n",
      "255/255 [==============================] - 0s 2ms/step - loss: 0.3694 - accuracy: 0.8336\n",
      "Epoch 19/200\n",
      "255/255 [==============================] - 1s 2ms/step - loss: 0.3656 - accuracy: 0.8355\n",
      "Epoch 20/200\n",
      "255/255 [==============================] - 0s 2ms/step - loss: 0.3629 - accuracy: 0.8380\n",
      "Epoch 21/200\n",
      "255/255 [==============================] - 0s 2ms/step - loss: 0.3603 - accuracy: 0.8376\n",
      "Epoch 22/200\n",
      "255/255 [==============================] - 0s 2ms/step - loss: 0.3571 - accuracy: 0.8411\n",
      "Epoch 23/200\n",
      "255/255 [==============================] - 0s 2ms/step - loss: 0.3547 - accuracy: 0.8400\n",
      "Epoch 24/200\n",
      "255/255 [==============================] - 0s 2ms/step - loss: 0.3521 - accuracy: 0.8432\n",
      "Epoch 25/200\n",
      "255/255 [==============================] - 0s 2ms/step - loss: 0.3496 - accuracy: 0.8454\n",
      "Epoch 26/200\n",
      "255/255 [==============================] - 0s 2ms/step - loss: 0.3475 - accuracy: 0.8443\n",
      "Epoch 27/200\n",
      "255/255 [==============================] - 0s 2ms/step - loss: 0.3451 - accuracy: 0.8506\n",
      "Epoch 28/200\n",
      "255/255 [==============================] - 0s 2ms/step - loss: 0.3437 - accuracy: 0.8509\n",
      "Epoch 29/200\n",
      "255/255 [==============================] - 0s 2ms/step - loss: 0.3411 - accuracy: 0.8524\n",
      "Epoch 30/200\n",
      "255/255 [==============================] - 0s 2ms/step - loss: 0.3397 - accuracy: 0.8551\n",
      "Epoch 31/200\n",
      "255/255 [==============================] - 0s 2ms/step - loss: 0.3381 - accuracy: 0.8538\n",
      "Epoch 32/200\n",
      "255/255 [==============================] - 1s 2ms/step - loss: 0.3353 - accuracy: 0.8555\n",
      "Epoch 33/200\n",
      "255/255 [==============================] - 0s 2ms/step - loss: 0.3341 - accuracy: 0.8560\n",
      "Epoch 34/200\n",
      "255/255 [==============================] - 0s 2ms/step - loss: 0.3319 - accuracy: 0.8564\n",
      "Epoch 35/200\n",
      "255/255 [==============================] - 0s 2ms/step - loss: 0.3302 - accuracy: 0.8582\n",
      "Epoch 36/200\n",
      "255/255 [==============================] - 0s 2ms/step - loss: 0.3283 - accuracy: 0.8575\n",
      "Epoch 37/200\n",
      "255/255 [==============================] - 0s 2ms/step - loss: 0.3269 - accuracy: 0.8594\n",
      "Epoch 38/200\n",
      "255/255 [==============================] - 0s 2ms/step - loss: 0.3247 - accuracy: 0.8587\n",
      "Epoch 39/200\n",
      "255/255 [==============================] - 0s 2ms/step - loss: 0.3224 - accuracy: 0.8586\n",
      "Epoch 40/200\n",
      "255/255 [==============================] - 0s 2ms/step - loss: 0.3210 - accuracy: 0.8622\n",
      "Epoch 41/200\n",
      "255/255 [==============================] - 0s 2ms/step - loss: 0.3192 - accuracy: 0.8623\n",
      "Epoch 42/200\n",
      "255/255 [==============================] - 0s 2ms/step - loss: 0.3166 - accuracy: 0.8622\n",
      "Epoch 43/200\n",
      "255/255 [==============================] - 0s 2ms/step - loss: 0.3149 - accuracy: 0.8640\n",
      "Epoch 44/200\n",
      "255/255 [==============================] - 0s 2ms/step - loss: 0.3129 - accuracy: 0.8657\n",
      "Epoch 45/200\n",
      "255/255 [==============================] - 0s 2ms/step - loss: 0.3116 - accuracy: 0.8659\n",
      "Epoch 46/200\n",
      "255/255 [==============================] - 0s 2ms/step - loss: 0.3099 - accuracy: 0.8670\n",
      "Epoch 47/200\n",
      "255/255 [==============================] - 0s 2ms/step - loss: 0.3084 - accuracy: 0.8683\n",
      "Epoch 48/200\n",
      "255/255 [==============================] - 0s 2ms/step - loss: 0.3073 - accuracy: 0.8683\n",
      "Epoch 49/200\n",
      "255/255 [==============================] - 0s 2ms/step - loss: 0.3055 - accuracy: 0.8677\n",
      "Epoch 50/200\n",
      "255/255 [==============================] - 0s 2ms/step - loss: 0.3033 - accuracy: 0.8717\n",
      "Epoch 51/200\n",
      "255/255 [==============================] - 0s 2ms/step - loss: 0.3024 - accuracy: 0.8720\n",
      "Epoch 52/200\n",
      "255/255 [==============================] - 0s 2ms/step - loss: 0.3006 - accuracy: 0.8756\n",
      "Epoch 53/200\n",
      "255/255 [==============================] - 0s 2ms/step - loss: 0.2997 - accuracy: 0.8748\n",
      "Epoch 54/200\n",
      "255/255 [==============================] - 0s 2ms/step - loss: 0.2980 - accuracy: 0.8742\n",
      "Epoch 55/200\n",
      "255/255 [==============================] - 1s 2ms/step - loss: 0.2968 - accuracy: 0.8737\n",
      "Epoch 56/200\n",
      "255/255 [==============================] - 1s 2ms/step - loss: 0.2949 - accuracy: 0.8764\n",
      "Epoch 57/200\n",
      "255/255 [==============================] - 0s 2ms/step - loss: 0.2946 - accuracy: 0.8783\n",
      "Epoch 58/200\n",
      "255/255 [==============================] - 1s 2ms/step - loss: 0.2925 - accuracy: 0.8794\n",
      "Epoch 59/200\n",
      "255/255 [==============================] - 0s 2ms/step - loss: 0.2911 - accuracy: 0.8808\n",
      "Epoch 60/200\n",
      "255/255 [==============================] - 0s 2ms/step - loss: 0.2902 - accuracy: 0.8800\n",
      "Epoch 61/200\n",
      "255/255 [==============================] - 0s 2ms/step - loss: 0.2895 - accuracy: 0.8832\n",
      "Epoch 62/200\n",
      "255/255 [==============================] - 0s 2ms/step - loss: 0.2878 - accuracy: 0.8832\n",
      "Epoch 63/200\n",
      "255/255 [==============================] - 0s 2ms/step - loss: 0.2866 - accuracy: 0.8834\n",
      "Epoch 64/200\n",
      "255/255 [==============================] - 1s 2ms/step - loss: 0.2856 - accuracy: 0.8886\n",
      "Epoch 65/200\n",
      "255/255 [==============================] - 1s 3ms/step - loss: 0.2842 - accuracy: 0.8862\n",
      "Epoch 66/200\n",
      "255/255 [==============================] - 1s 3ms/step - loss: 0.2834 - accuracy: 0.8867\n",
      "Epoch 67/200\n",
      "255/255 [==============================] - 1s 3ms/step - loss: 0.2826 - accuracy: 0.8875\n",
      "Epoch 68/200\n",
      "255/255 [==============================] - 1s 3ms/step - loss: 0.2815 - accuracy: 0.8859\n",
      "Epoch 69/200\n",
      "255/255 [==============================] - 1s 2ms/step - loss: 0.2808 - accuracy: 0.8861\n",
      "Epoch 70/200\n",
      "255/255 [==============================] - 1s 3ms/step - loss: 0.2790 - accuracy: 0.8900\n",
      "Epoch 71/200\n",
      "255/255 [==============================] - 1s 3ms/step - loss: 0.2783 - accuracy: 0.8891\n",
      "Epoch 72/200\n",
      "255/255 [==============================] - 1s 3ms/step - loss: 0.2777 - accuracy: 0.8893\n",
      "Epoch 73/200\n",
      "255/255 [==============================] - 1s 3ms/step - loss: 0.2760 - accuracy: 0.8916\n",
      "Epoch 74/200\n",
      "255/255 [==============================] - 1s 3ms/step - loss: 0.2746 - accuracy: 0.8879\n",
      "Epoch 75/200\n",
      "255/255 [==============================] - 1s 3ms/step - loss: 0.2742 - accuracy: 0.8910\n",
      "Epoch 76/200\n",
      "255/255 [==============================] - 1s 3ms/step - loss: 0.2729 - accuracy: 0.8900\n",
      "Epoch 77/200\n",
      "255/255 [==============================] - 1s 3ms/step - loss: 0.2717 - accuracy: 0.8915\n",
      "Epoch 78/200\n",
      "255/255 [==============================] - 1s 3ms/step - loss: 0.2701 - accuracy: 0.8940\n",
      "Epoch 79/200\n",
      "255/255 [==============================] - 1s 3ms/step - loss: 0.2681 - accuracy: 0.8933\n",
      "Epoch 80/200\n",
      "255/255 [==============================] - 1s 3ms/step - loss: 0.2677 - accuracy: 0.8935\n",
      "Epoch 81/200\n",
      "255/255 [==============================] - 1s 3ms/step - loss: 0.2662 - accuracy: 0.8942\n",
      "Epoch 82/200\n",
      "255/255 [==============================] - 1s 2ms/step - loss: 0.2645 - accuracy: 0.8952\n",
      "Epoch 83/200\n",
      "255/255 [==============================] - 1s 3ms/step - loss: 0.2643 - accuracy: 0.8968\n",
      "Epoch 84/200\n",
      "255/255 [==============================] - 1s 2ms/step - loss: 0.2624 - accuracy: 0.8956\n",
      "Epoch 85/200\n",
      "255/255 [==============================] - 1s 2ms/step - loss: 0.2612 - accuracy: 0.8957\n",
      "Epoch 86/200\n",
      "255/255 [==============================] - 1s 3ms/step - loss: 0.2602 - accuracy: 0.8969\n",
      "Epoch 87/200\n",
      "255/255 [==============================] - 1s 3ms/step - loss: 0.2592 - accuracy: 0.8965\n",
      "Epoch 88/200\n",
      "255/255 [==============================] - 1s 2ms/step - loss: 0.2584 - accuracy: 0.8970\n",
      "Epoch 89/200\n",
      "255/255 [==============================] - 1s 2ms/step - loss: 0.2568 - accuracy: 0.8987\n",
      "Epoch 90/200\n",
      "255/255 [==============================] - 1s 3ms/step - loss: 0.2557 - accuracy: 0.8983\n",
      "Epoch 91/200\n",
      "255/255 [==============================] - 1s 3ms/step - loss: 0.2561 - accuracy: 0.8991\n",
      "Epoch 92/200\n",
      "255/255 [==============================] - 1s 3ms/step - loss: 0.2541 - accuracy: 0.8997\n",
      "Epoch 93/200\n",
      "255/255 [==============================] - 1s 3ms/step - loss: 0.2540 - accuracy: 0.9007\n",
      "Epoch 94/200\n",
      "255/255 [==============================] - 1s 3ms/step - loss: 0.2519 - accuracy: 0.9000\n",
      "Epoch 95/200\n",
      "255/255 [==============================] - 1s 3ms/step - loss: 0.2516 - accuracy: 0.8989\n",
      "Epoch 96/200\n",
      "255/255 [==============================] - 1s 3ms/step - loss: 0.2511 - accuracy: 0.9011\n",
      "Epoch 97/200\n",
      "255/255 [==============================] - 1s 3ms/step - loss: 0.2492 - accuracy: 0.9038\n",
      "Epoch 98/200\n",
      "255/255 [==============================] - 1s 3ms/step - loss: 0.2488 - accuracy: 0.9008\n",
      "Epoch 99/200\n",
      "255/255 [==============================] - 1s 3ms/step - loss: 0.2479 - accuracy: 0.9006\n",
      "Epoch 100/200\n",
      "255/255 [==============================] - 1s 2ms/step - loss: 0.2475 - accuracy: 0.9024\n",
      "Epoch 101/200\n",
      "255/255 [==============================] - 1s 2ms/step - loss: 0.2463 - accuracy: 0.9026\n",
      "Epoch 102/200\n",
      "255/255 [==============================] - 0s 2ms/step - loss: 0.2464 - accuracy: 0.9027\n",
      "Epoch 103/200\n",
      "255/255 [==============================] - 0s 2ms/step - loss: 0.2445 - accuracy: 0.9039\n",
      "Epoch 104/200\n",
      "255/255 [==============================] - 0s 2ms/step - loss: 0.2440 - accuracy: 0.9033\n",
      "Epoch 105/200\n",
      "255/255 [==============================] - 0s 2ms/step - loss: 0.2437 - accuracy: 0.9043\n",
      "Epoch 106/200\n",
      "255/255 [==============================] - 0s 2ms/step - loss: 0.2433 - accuracy: 0.9043\n",
      "Epoch 107/200\n",
      "255/255 [==============================] - 0s 2ms/step - loss: 0.2421 - accuracy: 0.9046\n",
      "Epoch 108/200\n",
      "255/255 [==============================] - 0s 2ms/step - loss: 0.2423 - accuracy: 0.9051\n",
      "Epoch 109/200\n",
      "255/255 [==============================] - 0s 2ms/step - loss: 0.2411 - accuracy: 0.9046\n",
      "Epoch 110/200\n",
      "255/255 [==============================] - 0s 2ms/step - loss: 0.2413 - accuracy: 0.9051\n",
      "Epoch 111/200\n",
      "255/255 [==============================] - 0s 2ms/step - loss: 0.2398 - accuracy: 0.9051\n",
      "Epoch 112/200\n",
      "255/255 [==============================] - 0s 2ms/step - loss: 0.2408 - accuracy: 0.9022\n",
      "Epoch 113/200\n",
      "255/255 [==============================] - 0s 2ms/step - loss: 0.2393 - accuracy: 0.9045\n",
      "Epoch 114/200\n",
      "255/255 [==============================] - 0s 2ms/step - loss: 0.2396 - accuracy: 0.9059\n",
      "Epoch 115/200\n",
      "255/255 [==============================] - 0s 2ms/step - loss: 0.2388 - accuracy: 0.9066\n",
      "Epoch 116/200\n",
      "255/255 [==============================] - 0s 2ms/step - loss: 0.2381 - accuracy: 0.9053\n",
      "Epoch 117/200\n",
      "255/255 [==============================] - 0s 2ms/step - loss: 0.2378 - accuracy: 0.9053\n",
      "Epoch 118/200\n",
      "255/255 [==============================] - 0s 2ms/step - loss: 0.2367 - accuracy: 0.9080\n",
      "Epoch 119/200\n",
      "255/255 [==============================] - 0s 2ms/step - loss: 0.2363 - accuracy: 0.9050\n",
      "Epoch 120/200\n",
      "255/255 [==============================] - 1s 2ms/step - loss: 0.2364 - accuracy: 0.9051\n",
      "Epoch 121/200\n",
      "255/255 [==============================] - 0s 2ms/step - loss: 0.2357 - accuracy: 0.9093\n",
      "Epoch 122/200\n",
      "255/255 [==============================] - 0s 2ms/step - loss: 0.2358 - accuracy: 0.9060\n",
      "Epoch 123/200\n",
      "255/255 [==============================] - 0s 2ms/step - loss: 0.2349 - accuracy: 0.9078\n",
      "Epoch 124/200\n",
      "255/255 [==============================] - 0s 2ms/step - loss: 0.2338 - accuracy: 0.9093\n",
      "Epoch 125/200\n",
      "255/255 [==============================] - 0s 2ms/step - loss: 0.2345 - accuracy: 0.9075\n",
      "Epoch 126/200\n",
      "255/255 [==============================] - 0s 2ms/step - loss: 0.2326 - accuracy: 0.9076\n",
      "Epoch 127/200\n",
      "255/255 [==============================] - 0s 2ms/step - loss: 0.2347 - accuracy: 0.9065\n",
      "Epoch 128/200\n",
      "255/255 [==============================] - 0s 2ms/step - loss: 0.2325 - accuracy: 0.9081\n",
      "Epoch 129/200\n",
      "255/255 [==============================] - 0s 2ms/step - loss: 0.2338 - accuracy: 0.9071\n",
      "Epoch 130/200\n",
      "255/255 [==============================] - 0s 2ms/step - loss: 0.2324 - accuracy: 0.9075\n",
      "Epoch 131/200\n",
      "255/255 [==============================] - 0s 2ms/step - loss: 0.2321 - accuracy: 0.9083\n",
      "Epoch 132/200\n",
      "255/255 [==============================] - 0s 2ms/step - loss: 0.2315 - accuracy: 0.9075\n",
      "Epoch 133/200\n",
      "255/255 [==============================] - 1s 2ms/step - loss: 0.2316 - accuracy: 0.9081\n",
      "Epoch 134/200\n",
      "255/255 [==============================] - 0s 2ms/step - loss: 0.2310 - accuracy: 0.9099\n",
      "Epoch 135/200\n",
      "255/255 [==============================] - 0s 2ms/step - loss: 0.2301 - accuracy: 0.9100\n",
      "Epoch 136/200\n",
      "255/255 [==============================] - 0s 2ms/step - loss: 0.2299 - accuracy: 0.9082\n",
      "Epoch 137/200\n",
      "255/255 [==============================] - 0s 2ms/step - loss: 0.2296 - accuracy: 0.9066\n",
      "Epoch 138/200\n",
      "255/255 [==============================] - 0s 2ms/step - loss: 0.2283 - accuracy: 0.9104\n",
      "Epoch 139/200\n",
      "255/255 [==============================] - 0s 2ms/step - loss: 0.2277 - accuracy: 0.9110\n",
      "Epoch 140/200\n",
      "255/255 [==============================] - 0s 2ms/step - loss: 0.2287 - accuracy: 0.9099\n",
      "Epoch 141/200\n",
      "255/255 [==============================] - 0s 2ms/step - loss: 0.2278 - accuracy: 0.9118\n",
      "Epoch 142/200\n",
      "255/255 [==============================] - 0s 2ms/step - loss: 0.2277 - accuracy: 0.9118\n",
      "Epoch 143/200\n",
      "255/255 [==============================] - 0s 2ms/step - loss: 0.2278 - accuracy: 0.9089\n",
      "Epoch 144/200\n",
      "255/255 [==============================] - 0s 2ms/step - loss: 0.2276 - accuracy: 0.9127\n",
      "Epoch 145/200\n",
      "255/255 [==============================] - 0s 2ms/step - loss: 0.2274 - accuracy: 0.9110\n",
      "Epoch 146/200\n",
      "255/255 [==============================] - 0s 2ms/step - loss: 0.2265 - accuracy: 0.9116\n",
      "Epoch 147/200\n",
      "255/255 [==============================] - 0s 2ms/step - loss: 0.2258 - accuracy: 0.9113\n",
      "Epoch 148/200\n",
      "255/255 [==============================] - 0s 2ms/step - loss: 0.2255 - accuracy: 0.9121\n",
      "Epoch 149/200\n",
      "255/255 [==============================] - 0s 2ms/step - loss: 0.2252 - accuracy: 0.9118\n",
      "Epoch 150/200\n",
      "255/255 [==============================] - 0s 2ms/step - loss: 0.2250 - accuracy: 0.9102\n",
      "Epoch 151/200\n",
      "255/255 [==============================] - 0s 2ms/step - loss: 0.2250 - accuracy: 0.9126\n",
      "Epoch 152/200\n",
      "255/255 [==============================] - 0s 2ms/step - loss: 0.2249 - accuracy: 0.9132\n",
      "Epoch 153/200\n",
      "255/255 [==============================] - 0s 2ms/step - loss: 0.2238 - accuracy: 0.9153\n",
      "Epoch 154/200\n",
      "255/255 [==============================] - 0s 2ms/step - loss: 0.2232 - accuracy: 0.9121\n",
      "Epoch 155/200\n",
      "255/255 [==============================] - 1s 2ms/step - loss: 0.2233 - accuracy: 0.9141\n",
      "Epoch 156/200\n",
      "255/255 [==============================] - 1s 2ms/step - loss: 0.2225 - accuracy: 0.9162\n",
      "Epoch 157/200\n",
      "255/255 [==============================] - 0s 2ms/step - loss: 0.2215 - accuracy: 0.9167\n",
      "Epoch 158/200\n",
      "255/255 [==============================] - 0s 2ms/step - loss: 0.2231 - accuracy: 0.9156\n",
      "Epoch 159/200\n",
      "255/255 [==============================] - 0s 2ms/step - loss: 0.2219 - accuracy: 0.9152\n",
      "Epoch 160/200\n"
     ]
    },
    {
     "name": "stdout",
     "output_type": "stream",
     "text": [
      "255/255 [==============================] - 0s 1ms/step - loss: 0.2211 - accuracy: 0.9167\n",
      "Epoch 161/200\n",
      "255/255 [==============================] - 0s 1ms/step - loss: 0.2210 - accuracy: 0.9156\n",
      "Epoch 162/200\n",
      "255/255 [==============================] - 0s 2ms/step - loss: 0.2200 - accuracy: 0.9165\n",
      "Epoch 163/200\n",
      "255/255 [==============================] - 0s 2ms/step - loss: 0.2195 - accuracy: 0.9147\n",
      "Epoch 164/200\n",
      "255/255 [==============================] - 0s 2ms/step - loss: 0.2202 - accuracy: 0.9179\n",
      "Epoch 165/200\n",
      "255/255 [==============================] - 0s 2ms/step - loss: 0.2175 - accuracy: 0.9202\n",
      "Epoch 166/200\n",
      "255/255 [==============================] - 0s 2ms/step - loss: 0.2173 - accuracy: 0.9179\n",
      "Epoch 167/200\n",
      "255/255 [==============================] - 0s 2ms/step - loss: 0.2183 - accuracy: 0.9183\n",
      "Epoch 168/200\n",
      "255/255 [==============================] - 0s 1ms/step - loss: 0.2164 - accuracy: 0.9189\n",
      "Epoch 169/200\n",
      "255/255 [==============================] - 0s 2ms/step - loss: 0.2164 - accuracy: 0.9184\n",
      "Epoch 170/200\n",
      "255/255 [==============================] - 0s 2ms/step - loss: 0.2163 - accuracy: 0.9190\n",
      "Epoch 171/200\n",
      "255/255 [==============================] - 0s 2ms/step - loss: 0.2159 - accuracy: 0.9189\n",
      "Epoch 172/200\n",
      "255/255 [==============================] - 0s 2ms/step - loss: 0.2137 - accuracy: 0.9183\n",
      "Epoch 173/200\n",
      "255/255 [==============================] - 0s 1ms/step - loss: 0.2143 - accuracy: 0.9194\n",
      "Epoch 174/200\n",
      "255/255 [==============================] - 0s 2ms/step - loss: 0.2139 - accuracy: 0.9207\n",
      "Epoch 175/200\n",
      "255/255 [==============================] - 0s 2ms/step - loss: 0.2140 - accuracy: 0.9196\n",
      "Epoch 176/200\n",
      "255/255 [==============================] - 0s 2ms/step - loss: 0.2120 - accuracy: 0.9195\n",
      "Epoch 177/200\n",
      "255/255 [==============================] - 0s 2ms/step - loss: 0.2134 - accuracy: 0.9201\n",
      "Epoch 178/200\n",
      "255/255 [==============================] - 0s 2ms/step - loss: 0.2122 - accuracy: 0.9199\n",
      "Epoch 179/200\n",
      "255/255 [==============================] - 0s 1ms/step - loss: 0.2133 - accuracy: 0.9206\n",
      "Epoch 180/200\n",
      "255/255 [==============================] - 0s 2ms/step - loss: 0.2125 - accuracy: 0.9202\n",
      "Epoch 181/200\n",
      "255/255 [==============================] - 0s 2ms/step - loss: 0.2113 - accuracy: 0.9222\n",
      "Epoch 182/200\n",
      "255/255 [==============================] - 0s 2ms/step - loss: 0.2118 - accuracy: 0.9212\n",
      "Epoch 183/200\n",
      "255/255 [==============================] - 0s 2ms/step - loss: 0.2107 - accuracy: 0.9222\n",
      "Epoch 184/200\n",
      "255/255 [==============================] - 0s 2ms/step - loss: 0.2097 - accuracy: 0.9224\n",
      "Epoch 185/200\n",
      "255/255 [==============================] - 0s 1ms/step - loss: 0.2110 - accuracy: 0.9212\n",
      "Epoch 186/200\n",
      "255/255 [==============================] - 0s 2ms/step - loss: 0.2104 - accuracy: 0.9215\n",
      "Epoch 187/200\n",
      "255/255 [==============================] - 0s 2ms/step - loss: 0.2099 - accuracy: 0.9222\n",
      "Epoch 188/200\n",
      "255/255 [==============================] - 0s 1ms/step - loss: 0.2091 - accuracy: 0.9227\n",
      "Epoch 189/200\n",
      "255/255 [==============================] - 0s 2ms/step - loss: 0.2088 - accuracy: 0.9226\n",
      "Epoch 190/200\n",
      "255/255 [==============================] - 0s 2ms/step - loss: 0.2094 - accuracy: 0.9222\n",
      "Epoch 191/200\n",
      "255/255 [==============================] - 0s 2ms/step - loss: 0.2086 - accuracy: 0.9219\n",
      "Epoch 192/200\n",
      "255/255 [==============================] - 1s 2ms/step - loss: 0.2087 - accuracy: 0.9235\n",
      "Epoch 193/200\n",
      "255/255 [==============================] - 1s 2ms/step - loss: 0.2085 - accuracy: 0.9232\n",
      "Epoch 194/200\n",
      "255/255 [==============================] - 1s 2ms/step - loss: 0.2070 - accuracy: 0.9234\n",
      "Epoch 195/200\n",
      "255/255 [==============================] - 1s 2ms/step - loss: 0.2066 - accuracy: 0.9244\n",
      "Epoch 196/200\n",
      "255/255 [==============================] - 1s 2ms/step - loss: 0.2084 - accuracy: 0.9237\n",
      "Epoch 197/200\n",
      "255/255 [==============================] - 1s 2ms/step - loss: 0.2073 - accuracy: 0.9230\n",
      "Epoch 198/200\n",
      "255/255 [==============================] - 1s 2ms/step - loss: 0.2060 - accuracy: 0.9253\n",
      "Epoch 199/200\n",
      "255/255 [==============================] - 1s 2ms/step - loss: 0.2076 - accuracy: 0.9249\n",
      "Epoch 200/200\n",
      "255/255 [==============================] - 1s 2ms/step - loss: 0.2067 - accuracy: 0.9239\n"
     ]
    },
    {
     "data": {
      "text/plain": [
       "<keras.callbacks.History at 0x2390d2b28f0>"
      ]
     },
     "execution_count": 20,
     "metadata": {},
     "output_type": "execute_result"
    }
   ],
   "source": [
    "# Create the ANN model\n",
    "model = Sequential()\n",
    "model.add(Dense(16, activation='relu', input_shape=(X_train.shape[1],)))\n",
    "model.add(Dense(8, activation='relu'))\n",
    "model.add(Dense(1, activation='sigmoid'))\n",
    "\n",
    "# Compile the model\n",
    "model.compile(loss='binary_crossentropy', optimizer='adam', metrics=['accuracy'])\n",
    "\n",
    "# Train the model\n",
    "model.fit(X_train_scaled, y_train, epochs=200, batch_size=32, verbose=1)"
   ]
  },
  {
   "cell_type": "code",
   "execution_count": 21,
   "id": "90359172",
   "metadata": {},
   "outputs": [
    {
     "name": "stdout",
     "output_type": "stream",
     "text": [
      "34/34 [==============================] - 0s 1ms/step\n",
      "[[1.4328962e-06]\n",
      " [6.8682784e-01]\n",
      " [4.6877126e-06]\n",
      " ...\n",
      " [5.4557820e-08]\n",
      " [1.5564059e-06]\n",
      " [4.3087726e-07]]\n",
      "[0. 1. 0. ... 0. 0. 0.]\n",
      "Accuracy: 0.8419117647058824\n"
     ]
    }
   ],
   "source": [
    "# Make predictions on the test set\n",
    "y_pred_proba = model.predict(X_test_scaled)\n",
    "\n",
    "print(y_pred_proba )\n",
    "y_pred = np.round(y_pred_proba).flatten()\n",
    "print(y_pred)\n",
    "\n",
    "# Calculate accuracy\n",
    "accuracy = accuracy_score(y_test, y_pred)\n",
    "print(\"Accuracy:\", accuracy)"
   ]
  },
  {
   "cell_type": "code",
   "execution_count": 22,
   "id": "445a5eeb",
   "metadata": {},
   "outputs": [
    {
     "name": "stdout",
     "output_type": "stream",
     "text": [
      "precision:  0.23857868020304568\n",
      "recall:  0.6811594202898551\n",
      "F1 score:  0.3533834586466165\n"
     ]
    }
   ],
   "source": [
    "from sklearn.metrics import precision_score, recall_score, f1_score\n",
    "\n",
    "precision = precision_score(y_test, y_pred)\n",
    "recall = recall_score(y_test, y_pred)\n",
    "f1 = f1_score(y_test, y_pred)\n",
    "print(\"precision: \", precision)\n",
    "print(\"recall: \", recall)\n",
    "print(\"F1 score: \", f1)"
   ]
  },
  {
   "cell_type": "code",
   "execution_count": 23,
   "id": "f66829c2",
   "metadata": {},
   "outputs": [
    {
     "data": {
      "text/plain": [
       "array([[869, 150],\n",
       "       [ 22,  47]], dtype=int64)"
      ]
     },
     "execution_count": 23,
     "metadata": {},
     "output_type": "execute_result"
    }
   ],
   "source": [
    "# Confusion matrix\n",
    "from sklearn.metrics import confusion_matrix\n",
    "cm = confusion_matrix(y_test, y_pred)\n",
    "cm"
   ]
  },
  {
   "cell_type": "code",
   "execution_count": 32,
   "id": "56ae10ff",
   "metadata": {},
   "outputs": [
    {
     "name": "stdout",
     "output_type": "stream",
     "text": [
      "Cross-Validation Results:\n",
      "Loss: 0.3917 (+/- 0.0108)\n",
      "Accuracy: 0.8290 (+/- 0.0069)\n"
     ]
    }
   ],
   "source": [
    "from sklearn.model_selection import StratifiedKFold\n",
    "\n",
    "# Define the number of folds for cross-validation\n",
    "n_folds = 5\n",
    "\n",
    "# Initialize lists to store the evaluation results\n",
    "accuracy_scores = []\n",
    "loss_scores = []\n",
    "\n",
    "# Perform cross-validation\n",
    "skf = StratifiedKFold(n_splits=n_folds, shuffle=True)\n",
    "for train_index, val_index in skf.split(X_train_scaled, y_train):\n",
    "    # Split the data into training and validation sets for each fold\n",
    "    X_train_fold, X_val_fold = X_train_scaled[train_index], X_train_scaled[val_index]\n",
    "    y_train_fold, y_val_fold = y_train[train_index], y_train[val_index]\n",
    "\n",
    "    # Create the ANN model\n",
    "    model = Sequential()\n",
    "    model.add(Dense(16, activation='sigmoid', input_shape=(X_train.shape[1],)))\n",
    "    model.add(Dense(8, activation='sigmoid'))\n",
    "    model.add(Dense(1, activation='sigmoid'))\n",
    "\n",
    "    # Compile the model\n",
    "    model.compile(loss='binary_crossentropy', optimizer='adam', metrics=['accuracy'])\n",
    "\n",
    "    # Train the model\n",
    "    model.fit(X_train_fold, y_train_fold, epochs=200, batch_size=32, verbose=0)\n",
    "\n",
    "    # Evaluate the model on the validation set\n",
    "    loss, accuracy = model.evaluate(X_val_fold, y_val_fold, verbose=0)\n",
    "\n",
    "    # Store the evaluation scores\n",
    "    loss_scores.append(loss)\n",
    "    accuracy_scores.append(accuracy)\n",
    "\n",
    "# Calculate the mean and standard deviation of the evaluation scores\n",
    "mean_loss = np.mean(loss_scores)\n",
    "mean_accuracy = np.mean(accuracy_scores)\n",
    "std_loss = np.std(loss_scores)\n",
    "std_accuracy = np.std(accuracy_scores)\n",
    "\n",
    "# Print the results\n",
    "print(\"Cross-Validation Results:\")\n",
    "print(\"Loss: {:.4f} (+/- {:.4f})\".format(mean_loss, std_loss))\n",
    "print(\"Accuracy: {:.4f} (+/- {:.4f})\".format(mean_accuracy, std_accuracy))\n"
   ]
  },
  {
   "cell_type": "code",
   "execution_count": 129,
   "id": "5dfe7dcb",
   "metadata": {},
   "outputs": [],
   "source": [
    "import xgboost as xgb\n",
    "# Create the XGBoost classifier\n",
    "xgb_model = xgb.XGBClassifier()\n",
    "\n",
    "# Train the model\n",
    "xgb_model.fit(X_train_scaled, y_train)\n",
    "\n",
    "# Make predictions on the test set\n",
    "y_pred = xgb_model.predict(X_test_scaled)"
   ]
  },
  {
   "cell_type": "code",
   "execution_count": 130,
   "id": "793b9ade",
   "metadata": {},
   "outputs": [],
   "source": [
    "# Get predicted probabilities for the positive class\n",
    "y_prob = xgb_model.predict_proba(X_test_scaled)[:, 1]\n",
    "\n",
    "# Define a new threshold\n",
    "new_threshold = 0.7  # Adjust this value as per your requirements\n",
    "\n",
    "# Convert probabilities to binary predictions based on the new threshold\n",
    "y_pred = np.where(y_prob >= new_threshold, 1, 0)"
   ]
  },
  {
   "cell_type": "code",
   "execution_count": 131,
   "id": "f50be9af",
   "metadata": {},
   "outputs": [
    {
     "name": "stdout",
     "output_type": "stream",
     "text": [
      "Accuracy: 0.6328125\n"
     ]
    }
   ],
   "source": [
    "# Calculate accuracy\n",
    "accuracy = accuracy_score(y_test, y_pred)\n",
    "print(\"Accuracy:\", accuracy)"
   ]
  },
  {
   "cell_type": "code",
   "execution_count": null,
   "id": "88a63f3e",
   "metadata": {},
   "outputs": [],
   "source": []
  },
  {
   "cell_type": "code",
   "execution_count": 132,
   "id": "a46a3cee",
   "metadata": {},
   "outputs": [
    {
     "name": "stdout",
     "output_type": "stream",
     "text": [
      "precision:  0.925\n",
      "recall:  0.2890625\n",
      "F1 score:  0.44047619047619047\n"
     ]
    }
   ],
   "source": [
    "from sklearn.metrics import precision_score, recall_score, f1_score\n",
    "\n",
    "precision = precision_score(y_test, y_pred)\n",
    "recall = recall_score(y_test, y_pred)\n",
    "f1 = f1_score(y_test, y_pred)\n",
    "print(\"precision: \", precision)\n",
    "print(\"recall: \", recall)\n",
    "print(\"F1 score: \", f1)"
   ]
  },
  {
   "cell_type": "code",
   "execution_count": 133,
   "id": "b932b108",
   "metadata": {},
   "outputs": [
    {
     "data": {
      "text/plain": [
       "array([[1000,   24],\n",
       "       [ 728,  296]], dtype=int64)"
      ]
     },
     "execution_count": 133,
     "metadata": {},
     "output_type": "execute_result"
    }
   ],
   "source": [
    "# Confusion matrix\n",
    "from sklearn.metrics import confusion_matrix\n",
    "cm = confusion_matrix(y_test, y_pred)\n",
    "cm"
   ]
  },
  {
   "cell_type": "code",
   "execution_count": 28,
   "id": "547b2ec6",
   "metadata": {},
   "outputs": [],
   "source": [
    "import numpy as np\n",
    "import pandas as pd\n",
    "from sklearn.model_selection import train_test_split\n",
    "from sklearn.metrics import accuracy_score, precision_score, recall_score, f1_score\n",
    "from sklearn.linear_model import SGDClassifier, Perceptron, PassiveAggressiveClassifier, RidgeClassifierCV, LogisticRegressionCV\n",
    "from sklearn.ensemble import AdaBoostClassifier, BaggingClassifier, ExtraTreesClassifier, GradientBoostingClassifier, HistGradientBoostingClassifier\n",
    "from sklearn.svm import NuSVC, LinearSVC\n",
    "from sklearn.calibration import CalibratedClassifierCV\n",
    "from sklearn.neighbors import NearestCentroid\n",
    "from sklearn.gaussian_process import GaussianProcessClassifier\n",
    "from sklearn.naive_bayes import MultinomialNB, ComplementNB, BernoulliNB, CategoricalNB\n",
    "from sklearn.neural_network import MLPClassifier\n",
    "from sklearn.semi_supervised import LabelPropagation, LabelSpreading\n",
    "from sklearn.discriminant_analysis import LinearDiscriminantAnalysis, QuadraticDiscriminantAnalysis\n",
    "from sklearn.ensemble import StackingClassifier\n",
    "from lightgbm import LGBMClassifier"
   ]
  },
  {
   "cell_type": "code",
   "execution_count": 135,
   "id": "5ffbe867",
   "metadata": {},
   "outputs": [
    {
     "name": "stdout",
     "output_type": "stream",
     "text": [
      "Empty DataFrame\n",
      "Columns: [Classifier, Accuracy, Precision, Recall, F1 Score]\n",
      "Index: []\n"
     ]
    },
    {
     "name": "stderr",
     "output_type": "stream",
     "text": [
      "C:\\Users\\HP\\AppData\\Local\\Temp\\ipykernel_12000\\3353424722.py:46: FutureWarning: The frame.append method is deprecated and will be removed from pandas in a future version. Use pandas.concat instead.\n",
      "  results = results.append({'Classifier': name, 'Accuracy': accuracy, 'Precision': precision, 'Recall': recall, 'F1 Score': f1}, ignore_index=True)\n",
      "C:\\Users\\HP\\AppData\\Local\\Temp\\ipykernel_12000\\3353424722.py:46: FutureWarning: The frame.append method is deprecated and will be removed from pandas in a future version. Use pandas.concat instead.\n",
      "  results = results.append({'Classifier': name, 'Accuracy': accuracy, 'Precision': precision, 'Recall': recall, 'F1 Score': f1}, ignore_index=True)\n"
     ]
    },
    {
     "name": "stdout",
     "output_type": "stream",
     "text": [
      "  Classifier  Accuracy Precision    Recall  F1 Score\n",
      "0        SGD  0.802246  0.869773  0.710938  0.782375\n",
      "   Classifier  Accuracy Precision    Recall  F1 Score\n",
      "0         SGD  0.802246  0.869773  0.710938  0.782375\n",
      "1  Perceptron  0.822754  0.862788  0.767578  0.812403\n",
      "   Classifier  Accuracy Precision    Recall  F1 Score\n",
      "0         SGD  0.802246  0.869773  0.710938  0.782375\n",
      "1  Perceptron  0.822754  0.862788  0.767578  0.812403\n",
      "2    AdaBoost  0.773926  0.822785  0.698242  0.755415\n",
      "   Classifier  Accuracy Precision    Recall  F1 Score\n",
      "0         SGD  0.802246  0.869773  0.710938  0.782375\n",
      "1  Perceptron  0.822754  0.862788  0.767578  0.812403\n",
      "2    AdaBoost  0.773926  0.822785  0.698242  0.755415\n",
      "3         PAC   0.73291  0.774453  0.657227  0.711041\n"
     ]
    },
    {
     "name": "stderr",
     "output_type": "stream",
     "text": [
      "C:\\Users\\HP\\AppData\\Local\\Temp\\ipykernel_12000\\3353424722.py:46: FutureWarning: The frame.append method is deprecated and will be removed from pandas in a future version. Use pandas.concat instead.\n",
      "  results = results.append({'Classifier': name, 'Accuracy': accuracy, 'Precision': precision, 'Recall': recall, 'F1 Score': f1}, ignore_index=True)\n",
      "C:\\Users\\HP\\AppData\\Local\\Temp\\ipykernel_12000\\3353424722.py:46: FutureWarning: The frame.append method is deprecated and will be removed from pandas in a future version. Use pandas.concat instead.\n",
      "  results = results.append({'Classifier': name, 'Accuracy': accuracy, 'Precision': precision, 'Recall': recall, 'F1 Score': f1}, ignore_index=True)\n",
      "C:\\Users\\HP\\AppData\\Local\\Temp\\ipykernel_12000\\3353424722.py:46: FutureWarning: The frame.append method is deprecated and will be removed from pandas in a future version. Use pandas.concat instead.\n",
      "  results = results.append({'Classifier': name, 'Accuracy': accuracy, 'Precision': precision, 'Recall': recall, 'F1 Score': f1}, ignore_index=True)\n",
      "C:\\Users\\HP\\AppData\\Roaming\\Python\\Python310\\site-packages\\sklearn\\svm\\_base.py:1206: ConvergenceWarning: Liblinear failed to converge, increase the number of iterations.\n",
      "  warnings.warn(\n",
      "C:\\Users\\HP\\AppData\\Local\\Temp\\ipykernel_12000\\3353424722.py:46: FutureWarning: The frame.append method is deprecated and will be removed from pandas in a future version. Use pandas.concat instead.\n",
      "  results = results.append({'Classifier': name, 'Accuracy': accuracy, 'Precision': precision, 'Recall': recall, 'F1 Score': f1}, ignore_index=True)\n"
     ]
    },
    {
     "name": "stdout",
     "output_type": "stream",
     "text": [
      "   Classifier  Accuracy Precision    Recall  F1 Score\n",
      "0         SGD  0.802246  0.869773  0.710938  0.782375\n",
      "1  Perceptron  0.822754  0.862788  0.767578  0.812403\n",
      "2    AdaBoost  0.773926  0.822785  0.698242  0.755415\n",
      "3         PAC   0.73291  0.774453  0.657227  0.711041\n",
      "4          RC  0.786133  0.836782  0.710938  0.768743\n"
     ]
    },
    {
     "name": "stderr",
     "output_type": "stream",
     "text": [
      "C:\\Users\\HP\\AppData\\Roaming\\Python\\Python310\\site-packages\\sklearn\\svm\\_base.py:1206: ConvergenceWarning: Liblinear failed to converge, increase the number of iterations.\n",
      "  warnings.warn(\n",
      "C:\\Users\\HP\\AppData\\Roaming\\Python\\Python310\\site-packages\\sklearn\\svm\\_base.py:1206: ConvergenceWarning: Liblinear failed to converge, increase the number of iterations.\n",
      "  warnings.warn(\n",
      "C:\\Users\\HP\\AppData\\Roaming\\Python\\Python310\\site-packages\\sklearn\\svm\\_base.py:1206: ConvergenceWarning: Liblinear failed to converge, increase the number of iterations.\n",
      "  warnings.warn(\n",
      "C:\\Users\\HP\\AppData\\Roaming\\Python\\Python310\\site-packages\\sklearn\\svm\\_base.py:1206: ConvergenceWarning: Liblinear failed to converge, increase the number of iterations.\n",
      "  warnings.warn(\n",
      "C:\\Users\\HP\\AppData\\Roaming\\Python\\Python310\\site-packages\\sklearn\\svm\\_base.py:1206: ConvergenceWarning: Liblinear failed to converge, increase the number of iterations.\n",
      "  warnings.warn(\n",
      "C:\\Users\\HP\\AppData\\Local\\Temp\\ipykernel_12000\\3353424722.py:46: FutureWarning: The frame.append method is deprecated and will be removed from pandas in a future version. Use pandas.concat instead.\n",
      "  results = results.append({'Classifier': name, 'Accuracy': accuracy, 'Precision': precision, 'Recall': recall, 'F1 Score': f1}, ignore_index=True)\n",
      "C:\\Users\\HP\\AppData\\Local\\Temp\\ipykernel_12000\\3353424722.py:46: FutureWarning: The frame.append method is deprecated and will be removed from pandas in a future version. Use pandas.concat instead.\n",
      "  results = results.append({'Classifier': name, 'Accuracy': accuracy, 'Precision': precision, 'Recall': recall, 'F1 Score': f1}, ignore_index=True)\n"
     ]
    },
    {
     "name": "stdout",
     "output_type": "stream",
     "text": [
      "   Classifier  Accuracy Precision    Recall  F1 Score\n",
      "0         SGD  0.802246  0.869773  0.710938  0.782375\n",
      "1  Perceptron  0.822754  0.862788  0.767578  0.812403\n",
      "2    AdaBoost  0.773926  0.822785  0.698242  0.755415\n",
      "3         PAC   0.73291  0.774453  0.657227  0.711041\n",
      "4          RC  0.786133  0.836782  0.710938  0.768743\n",
      "5        LSVC  0.797363  0.834983  0.741211  0.785308\n",
      "   Classifier  Accuracy Precision    Recall  F1 Score\n",
      "0         SGD  0.802246  0.869773  0.710938  0.782375\n",
      "1  Perceptron  0.822754  0.862788  0.767578  0.812403\n",
      "2    AdaBoost  0.773926  0.822785  0.698242  0.755415\n",
      "3         PAC   0.73291  0.774453  0.657227  0.711041\n",
      "4          RC  0.786133  0.836782  0.710938  0.768743\n",
      "5        LSVC  0.797363  0.834983  0.741211  0.785308\n",
      "6        CCCV  0.795898  0.832237  0.741211  0.784091\n",
      "   Classifier  Accuracy Precision    Recall  F1 Score\n",
      "0         SGD  0.802246  0.869773  0.710938  0.782375\n",
      "1  Perceptron  0.822754  0.862788  0.767578  0.812403\n",
      "2    AdaBoost  0.773926  0.822785  0.698242  0.755415\n",
      "3         PAC   0.73291  0.774453  0.657227  0.711041\n",
      "4          RC  0.786133  0.836782  0.710938  0.768743\n",
      "5        LSVC  0.797363  0.834983  0.741211  0.785308\n",
      "6        CCCV  0.795898  0.832237  0.741211  0.784091\n",
      "7          NC  0.774414  0.815022  0.709961  0.758873\n"
     ]
    },
    {
     "name": "stderr",
     "output_type": "stream",
     "text": [
      "C:\\Users\\HP\\AppData\\Local\\Temp\\ipykernel_12000\\3353424722.py:46: FutureWarning: The frame.append method is deprecated and will be removed from pandas in a future version. Use pandas.concat instead.\n",
      "  results = results.append({'Classifier': name, 'Accuracy': accuracy, 'Precision': precision, 'Recall': recall, 'F1 Score': f1}, ignore_index=True)\n"
     ]
    },
    {
     "ename": "ValueError",
     "evalue": "Negative values in data passed to MultinomialNB (input X)",
     "output_type": "error",
     "traceback": [
      "\u001b[1;31m---------------------------------------------------------------------------\u001b[0m",
      "\u001b[1;31mValueError\u001b[0m                                Traceback (most recent call last)",
      "Input \u001b[1;32mIn [135]\u001b[0m, in \u001b[0;36m<cell line: 38>\u001b[1;34m()\u001b[0m\n\u001b[0;32m     37\u001b[0m \u001b[38;5;66;03m# Iterate over classifiers\u001b[39;00m\n\u001b[0;32m     38\u001b[0m \u001b[38;5;28;01mfor\u001b[39;00m name, clf \u001b[38;5;129;01min\u001b[39;00m classifiers\u001b[38;5;241m.\u001b[39mitems():\n\u001b[1;32m---> 39\u001b[0m     \u001b[43mclf\u001b[49m\u001b[38;5;241;43m.\u001b[39;49m\u001b[43mfit\u001b[49m\u001b[43m(\u001b[49m\u001b[43mX_train_scaled\u001b[49m\u001b[43m,\u001b[49m\u001b[43m \u001b[49m\u001b[43my_train\u001b[49m\u001b[43m)\u001b[49m\n\u001b[0;32m     40\u001b[0m     y_pred \u001b[38;5;241m=\u001b[39m clf\u001b[38;5;241m.\u001b[39mpredict(X_test_scaled)\n\u001b[0;32m     41\u001b[0m     accuracy \u001b[38;5;241m=\u001b[39m accuracy_score(y_test, y_pred)\n",
      "File \u001b[1;32m~\\AppData\\Roaming\\Python\\Python310\\site-packages\\sklearn\\naive_bayes.py:690\u001b[0m, in \u001b[0;36m_BaseDiscreteNB.fit\u001b[1;34m(self, X, y, sample_weight)\u001b[0m\n\u001b[0;32m    688\u001b[0m n_classes \u001b[38;5;241m=\u001b[39m Y\u001b[38;5;241m.\u001b[39mshape[\u001b[38;5;241m1\u001b[39m]\n\u001b[0;32m    689\u001b[0m \u001b[38;5;28mself\u001b[39m\u001b[38;5;241m.\u001b[39m_init_counters(n_classes, n_features)\n\u001b[1;32m--> 690\u001b[0m \u001b[38;5;28;43mself\u001b[39;49m\u001b[38;5;241;43m.\u001b[39;49m\u001b[43m_count\u001b[49m\u001b[43m(\u001b[49m\u001b[43mX\u001b[49m\u001b[43m,\u001b[49m\u001b[43m \u001b[49m\u001b[43mY\u001b[49m\u001b[43m)\u001b[49m\n\u001b[0;32m    691\u001b[0m alpha \u001b[38;5;241m=\u001b[39m \u001b[38;5;28mself\u001b[39m\u001b[38;5;241m.\u001b[39m_check_alpha()\n\u001b[0;32m    692\u001b[0m \u001b[38;5;28mself\u001b[39m\u001b[38;5;241m.\u001b[39m_update_feature_log_prob(alpha)\n",
      "File \u001b[1;32m~\\AppData\\Roaming\\Python\\Python310\\site-packages\\sklearn\\naive_bayes.py:863\u001b[0m, in \u001b[0;36mMultinomialNB._count\u001b[1;34m(self, X, Y)\u001b[0m\n\u001b[0;32m    861\u001b[0m \u001b[38;5;28;01mdef\u001b[39;00m \u001b[38;5;21m_count\u001b[39m(\u001b[38;5;28mself\u001b[39m, X, Y):\n\u001b[0;32m    862\u001b[0m     \u001b[38;5;124;03m\"\"\"Count and smooth feature occurrences.\"\"\"\u001b[39;00m\n\u001b[1;32m--> 863\u001b[0m     \u001b[43mcheck_non_negative\u001b[49m\u001b[43m(\u001b[49m\u001b[43mX\u001b[49m\u001b[43m,\u001b[49m\u001b[43m \u001b[49m\u001b[38;5;124;43m\"\u001b[39;49m\u001b[38;5;124;43mMultinomialNB (input X)\u001b[39;49m\u001b[38;5;124;43m\"\u001b[39;49m\u001b[43m)\u001b[49m\n\u001b[0;32m    864\u001b[0m     \u001b[38;5;28mself\u001b[39m\u001b[38;5;241m.\u001b[39mfeature_count_ \u001b[38;5;241m+\u001b[39m\u001b[38;5;241m=\u001b[39m safe_sparse_dot(Y\u001b[38;5;241m.\u001b[39mT, X)\n\u001b[0;32m    865\u001b[0m     \u001b[38;5;28mself\u001b[39m\u001b[38;5;241m.\u001b[39mclass_count_ \u001b[38;5;241m+\u001b[39m\u001b[38;5;241m=\u001b[39m Y\u001b[38;5;241m.\u001b[39msum(axis\u001b[38;5;241m=\u001b[39m\u001b[38;5;241m0\u001b[39m)\n",
      "File \u001b[1;32m~\\AppData\\Roaming\\Python\\Python310\\site-packages\\sklearn\\utils\\validation.py:1249\u001b[0m, in \u001b[0;36mcheck_non_negative\u001b[1;34m(X, whom)\u001b[0m\n\u001b[0;32m   1246\u001b[0m     X_min \u001b[38;5;241m=\u001b[39m X\u001b[38;5;241m.\u001b[39mmin()\n\u001b[0;32m   1248\u001b[0m \u001b[38;5;28;01mif\u001b[39;00m X_min \u001b[38;5;241m<\u001b[39m \u001b[38;5;241m0\u001b[39m:\n\u001b[1;32m-> 1249\u001b[0m     \u001b[38;5;28;01mraise\u001b[39;00m \u001b[38;5;167;01mValueError\u001b[39;00m(\u001b[38;5;124m\"\u001b[39m\u001b[38;5;124mNegative values in data passed to \u001b[39m\u001b[38;5;132;01m%s\u001b[39;00m\u001b[38;5;124m\"\u001b[39m \u001b[38;5;241m%\u001b[39m whom)\n",
      "\u001b[1;31mValueError\u001b[0m: Negative values in data passed to MultinomialNB (input X)"
     ]
    }
   ],
   "source": [
    "# Define classifiers\n",
    "classifiers = {\n",
    "    'SGD': SGDClassifier(),\n",
    "    'Perceptron': Perceptron(),\n",
    "    'AdaBoost': AdaBoostClassifier(),\n",
    "    #'XGBoost': XGBClassifier(),\n",
    "    'PAC': PassiveAggressiveClassifier(),\n",
    "    'RC': RidgeClassifierCV(),\n",
    "    #'Nu-SVC': NuSVC(),\n",
    "    'LSVC': LinearSVC(),\n",
    "    'CCCV': CalibratedClassifierCV(),\n",
    "    'NC': NearestCentroid(),\n",
    "    'GPC': GaussianProcessClassifier(),\n",
    "    'MNB': MultinomialNB(),\n",
    "    'ComplementNB': ComplementNB(),\n",
    "    'BNB': BernoulliNB(),\n",
    "    'CategoricalNB': CategoricalNB(),\n",
    "    'Bagging': BaggingClassifier(),\n",
    "    'ET': ExtraTreesClassifier(),\n",
    "    'GBC': GradientBoostingClassifier(),\n",
    "    'HGBC': HistGradientBoostingClassifier(),\n",
    "    #'OVsRC': OneVsRestClassifier(),\n",
    "    'MLP': MLPClassifier(),\n",
    "    'LP': LabelPropagation(),\n",
    "    'LS': LabelSpreading(),\n",
    "    #'Stacking': StackingClassifier(),\n",
    "    'RCCV': RidgeClassifierCV(),\n",
    "    'LRCV': LogisticRegressionCV(),\n",
    "    'LDA': LinearDiscriminantAnalysis(),\n",
    "    'QDA': QuadraticDiscriminantAnalysis(),\n",
    "    'LGBM': LGBMClassifier()\n",
    "}\n",
    "\n",
    "# Initialize result dataframe\n",
    "results = pd.DataFrame(columns=['Classifier', 'Accuracy', 'Precision', 'Recall', 'F1 Score'])\n",
    "\n",
    "# Iterate over classifiers\n",
    "for name, clf in classifiers.items():\n",
    "    clf.fit(X_train_scaled, y_train)\n",
    "    y_pred = clf.predict(X_test_scaled)\n",
    "    accuracy = accuracy_score(y_test, y_pred)\n",
    "    precision = precision_score(y_test, y_pred)\n",
    "    recall = recall_score(y_test, y_pred)\n",
    "    f1 = f1_score(y_test, y_pred)\n",
    "    print(results)\n",
    "    results = results.append({'Classifier': name, 'Accuracy': accuracy, 'Precision': precision, 'Recall': recall, 'F1 Score': f1}, ignore_index=True)\n",
    "\n",
    "# Print results\n",
    "print(results)"
   ]
  },
  {
   "cell_type": "code",
   "execution_count": 136,
   "id": "2687032f",
   "metadata": {},
   "outputs": [
    {
     "data": {
      "text/html": [
       "<div>\n",
       "<style scoped>\n",
       "    .dataframe tbody tr th:only-of-type {\n",
       "        vertical-align: middle;\n",
       "    }\n",
       "\n",
       "    .dataframe tbody tr th {\n",
       "        vertical-align: top;\n",
       "    }\n",
       "\n",
       "    .dataframe thead th {\n",
       "        text-align: right;\n",
       "    }\n",
       "</style>\n",
       "<table border=\"1\" class=\"dataframe\">\n",
       "  <thead>\n",
       "    <tr style=\"text-align: right;\">\n",
       "      <th></th>\n",
       "      <th>Classifier</th>\n",
       "      <th>Accuracy</th>\n",
       "      <th>Precision</th>\n",
       "      <th>Recall</th>\n",
       "      <th>F1 Score</th>\n",
       "    </tr>\n",
       "  </thead>\n",
       "  <tbody>\n",
       "    <tr>\n",
       "      <th>0</th>\n",
       "      <td>SGD</td>\n",
       "      <td>0.802246</td>\n",
       "      <td>0.869773</td>\n",
       "      <td>0.710938</td>\n",
       "      <td>0.782375</td>\n",
       "    </tr>\n",
       "    <tr>\n",
       "      <th>1</th>\n",
       "      <td>Perceptron</td>\n",
       "      <td>0.822754</td>\n",
       "      <td>0.862788</td>\n",
       "      <td>0.767578</td>\n",
       "      <td>0.812403</td>\n",
       "    </tr>\n",
       "    <tr>\n",
       "      <th>2</th>\n",
       "      <td>AdaBoost</td>\n",
       "      <td>0.773926</td>\n",
       "      <td>0.822785</td>\n",
       "      <td>0.698242</td>\n",
       "      <td>0.755415</td>\n",
       "    </tr>\n",
       "    <tr>\n",
       "      <th>3</th>\n",
       "      <td>PAC</td>\n",
       "      <td>0.73291</td>\n",
       "      <td>0.774453</td>\n",
       "      <td>0.657227</td>\n",
       "      <td>0.711041</td>\n",
       "    </tr>\n",
       "    <tr>\n",
       "      <th>4</th>\n",
       "      <td>RC</td>\n",
       "      <td>0.786133</td>\n",
       "      <td>0.836782</td>\n",
       "      <td>0.710938</td>\n",
       "      <td>0.768743</td>\n",
       "    </tr>\n",
       "    <tr>\n",
       "      <th>5</th>\n",
       "      <td>LSVC</td>\n",
       "      <td>0.797363</td>\n",
       "      <td>0.834983</td>\n",
       "      <td>0.741211</td>\n",
       "      <td>0.785308</td>\n",
       "    </tr>\n",
       "    <tr>\n",
       "      <th>6</th>\n",
       "      <td>CCCV</td>\n",
       "      <td>0.795898</td>\n",
       "      <td>0.832237</td>\n",
       "      <td>0.741211</td>\n",
       "      <td>0.784091</td>\n",
       "    </tr>\n",
       "    <tr>\n",
       "      <th>7</th>\n",
       "      <td>NC</td>\n",
       "      <td>0.774414</td>\n",
       "      <td>0.815022</td>\n",
       "      <td>0.709961</td>\n",
       "      <td>0.758873</td>\n",
       "    </tr>\n",
       "    <tr>\n",
       "      <th>8</th>\n",
       "      <td>GPC</td>\n",
       "      <td>0.717773</td>\n",
       "      <td>0.813202</td>\n",
       "      <td>0.56543</td>\n",
       "      <td>0.667051</td>\n",
       "    </tr>\n",
       "  </tbody>\n",
       "</table>\n",
       "</div>"
      ],
      "text/plain": [
       "   Classifier  Accuracy Precision    Recall  F1 Score\n",
       "0         SGD  0.802246  0.869773  0.710938  0.782375\n",
       "1  Perceptron  0.822754  0.862788  0.767578  0.812403\n",
       "2    AdaBoost  0.773926  0.822785  0.698242  0.755415\n",
       "3         PAC   0.73291  0.774453  0.657227  0.711041\n",
       "4          RC  0.786133  0.836782  0.710938  0.768743\n",
       "5        LSVC  0.797363  0.834983  0.741211  0.785308\n",
       "6        CCCV  0.795898  0.832237  0.741211  0.784091\n",
       "7          NC  0.774414  0.815022  0.709961  0.758873\n",
       "8         GPC  0.717773  0.813202   0.56543  0.667051"
      ]
     },
     "execution_count": 136,
     "metadata": {},
     "output_type": "execute_result"
    }
   ],
   "source": [
    "results"
   ]
  },
  {
   "cell_type": "code",
   "execution_count": 19,
   "id": "4e5afdd6",
   "metadata": {},
   "outputs": [],
   "source": [
    "# Define the parameter grid for hyperparameter tuning\n",
    "from sklearn.linear_model import Perceptron\n",
    "from sklearn.model_selection import GridSearchCV, train_test_split\n",
    "param_grid = {\n",
    "    'penalty': ['l1', 'l2', 'elasticnet'],\n",
    "    'alpha': [0.0001, 0.001, 0.01, 0.1],\n",
    "    'max_iter': [100, 500, 1000],\n",
    "    'eta0': [0.1, 0.01, 0.001]\n",
    "}\n",
    "\n",
    "# Create the Perceptron model\n",
    "model = Perceptron()\n",
    "\n",
    "# Perform Grid Search with cross-validation\n",
    "grid_search = GridSearchCV(estimator=model, param_grid=param_grid, cv=5)\n",
    "grid_search.fit(X_train, y_train)\n",
    "\n",
    "# Get the best model and its hyperparameters\n",
    "best_model = grid_search.best_estimator_\n",
    "best_params = grid_search.best_params_"
   ]
  },
  {
   "cell_type": "code",
   "execution_count": 20,
   "id": "7d1fb333",
   "metadata": {},
   "outputs": [
    {
     "data": {
      "text/plain": [
       "{'alpha': 0.001, 'eta0': 0.1, 'max_iter': 100, 'penalty': 'l1'}"
      ]
     },
     "execution_count": 20,
     "metadata": {},
     "output_type": "execute_result"
    }
   ],
   "source": [
    "best_params"
   ]
  },
  {
   "cell_type": "code",
   "execution_count": 22,
   "id": "4083d4e6",
   "metadata": {},
   "outputs": [
    {
     "name": "stdout",
     "output_type": "stream",
     "text": [
      "Evaluation on Test Set:\n",
      "Accuracy: 0.80078125\n",
      "Precision: 0.7784810126582279\n",
      "Recall: 0.8408203125\n",
      "F1-Score: 0.8084507042253521\n",
      "Best Hyperparameters: {'alpha': 0.001, 'eta0': 0.1, 'max_iter': 100, 'penalty': 'l1'}\n"
     ]
    }
   ],
   "source": [
    "#Make predictions on the test set\n",
    "from sklearn.metrics import precision_score, recall_score, f1_score\n",
    "\n",
    "y_pred = best_model.predict(X_test)\n",
    "\n",
    "# Evaluate the model\n",
    "accuracy = accuracy_score(y_test, y_pred)\n",
    "precision = precision_score(y_test, y_pred)\n",
    "recall = recall_score(y_test, y_pred)\n",
    "f1 = f1_score(y_test, y_pred)\n",
    "\n",
    "print(\"Evaluation on Test Set:\")\n",
    "print(f\"Accuracy: {accuracy}\")\n",
    "print(f\"Precision: {precision}\")\n",
    "print(f\"Recall: {recall}\")\n",
    "print(f\"F1-Score: {f1}\")\n",
    "print(\"Best Hyperparameters:\", best_params)"
   ]
  },
  {
   "cell_type": "code",
   "execution_count": 23,
   "id": "9ea76f8f",
   "metadata": {},
   "outputs": [
    {
     "data": {
      "text/plain": [
       "array([[779, 245],\n",
       "       [163, 861]], dtype=int64)"
      ]
     },
     "execution_count": 23,
     "metadata": {},
     "output_type": "execute_result"
    }
   ],
   "source": [
    "# Confusion matrix\n",
    "from sklearn.metrics import confusion_matrix\n",
    "cm = confusion_matrix(y_test, y_pred)\n",
    "cm"
   ]
  },
  {
   "cell_type": "code",
   "execution_count": 24,
   "id": "efad9d9f",
   "metadata": {},
   "outputs": [],
   "source": [
    "##Voting Classifier"
   ]
  },
  {
   "cell_type": "code",
   "execution_count": 30,
   "id": "2a40af7c",
   "metadata": {},
   "outputs": [],
   "source": [
    "from sklearn.ensemble import VotingClassifier\n",
    "from sklearn.ensemble import RandomForestClassifier\n",
    "from sklearn.neighbors import KNeighborsClassifier\n",
    "from sklearn.svm import SVC\n",
    "from sklearn.neural_network import MLPClassifier\n",
    "from sklearn.ensemble import AdaBoostClassifier\n",
    "from sklearn.ensemble import GradientBoostingClassifier\n",
    "from sklearn.ensemble import ExtraTreesClassifier\n",
    "from sklearn.linear_model import LogisticRegression\n",
    "from xgboost import XGBClassifier\n",
    "from catboost import CatBoostClassifier\n",
    "# Decision tree Algorithm\n",
    "from sklearn.tree import DecisionTreeClassifier"
   ]
  },
  {
   "cell_type": "code",
   "execution_count": 31,
   "id": "706587ee",
   "metadata": {},
   "outputs": [],
   "source": [
    "from sklearn.metrics import confusion_matrix, recall_score, precision_score, f1_score, accuracy_score\n",
    "from sklearn.metrics import classification_report"
   ]
  },
  {
   "cell_type": "code",
   "execution_count": 32,
   "id": "e9eece46",
   "metadata": {},
   "outputs": [],
   "source": [
    "estimator = []\n",
    "estimator.append(('Neural Network', MLPClassifier(max_iter = 10000) ))\n",
    "estimator.append(('LP', LabelPropagation()))\n",
    "estimator.append((  'LS', LabelSpreading()))\n",
    "estimator.append(('RandomForest', DecisionTreeClassifier(criterion = 'entropy', random_state = 42) ))\n",
    "#estimator.append(('KNN', KNeighborsClassifier() ))\n",
    "estimator.append(( 'LGBM', LGBMClassifier()))\n",
    "estimator.append(( 'HGBC', HistGradientBoostingClassifier() ))\n",
    "estimator.append(('ET', ExtraTreesClassifier() ))\n",
    "estimator.append(( 'GBC', GradientBoostingClassifier()))\n",
    "estimator.append(('Bagging', BaggingClassifier()))"
   ]
  },
  {
   "cell_type": "code",
   "execution_count": 33,
   "id": "c674626d",
   "metadata": {},
   "outputs": [],
   "source": [
    "VC_hard = VotingClassifier(estimators = estimator, voting ='hard')\n",
    "VC_hard.fit(X_train_scaled, y_train)\n",
    "y_pred = VC_hard.predict(X_test_scaled)"
   ]
  },
  {
   "cell_type": "code",
   "execution_count": 34,
   "id": "dde64071",
   "metadata": {},
   "outputs": [
    {
     "name": "stdout",
     "output_type": "stream",
     "text": [
      "Accuracy: 0.60400390625\n"
     ]
    }
   ],
   "source": [
    "# Calculate accuracy\n",
    "accuracy = accuracy_score(y_test, y_pred)\n",
    "print(\"Accuracy:\", accuracy)\n"
   ]
  },
  {
   "cell_type": "code",
   "execution_count": 35,
   "id": "d28bcf50",
   "metadata": {},
   "outputs": [
    {
     "name": "stdout",
     "output_type": "stream",
     "text": [
      "[[988  36]\n",
      " [775 249]]\n"
     ]
    }
   ],
   "source": [
    "cm = confusion_matrix(y_test, y_pred)\n",
    "\n",
    "VC_hard_Recall = recall_score(y_test, y_pred)\n",
    "VC_hard_Precision = precision_score(y_test, y_pred)\n",
    "VC_hard_f1 = f1_score(y_test, y_pred)\n",
    "VC_hard_accuracy = accuracy_score(y_test, y_pred)\n",
    "\n",
    "print(cm)"
   ]
  },
  {
   "cell_type": "code",
   "execution_count": null,
   "id": "ab217b80",
   "metadata": {},
   "outputs": [],
   "source": []
  }
 ],
 "metadata": {
  "kernelspec": {
   "display_name": "Python 3 (ipykernel)",
   "language": "python",
   "name": "python3"
  },
  "language_info": {
   "codemirror_mode": {
    "name": "ipython",
    "version": 3
   },
   "file_extension": ".py",
   "mimetype": "text/x-python",
   "name": "python",
   "nbconvert_exporter": "python",
   "pygments_lexer": "ipython3",
   "version": "3.10.1"
  }
 },
 "nbformat": 4,
 "nbformat_minor": 5
}
